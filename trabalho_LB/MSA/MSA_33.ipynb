{
 "cells": [
  {
   "cell_type": "markdown",
   "metadata": {},
   "source": [
    "### Alinhamento Múltiplo - MSA"
   ]
  },
  {
   "cell_type": "markdown",
   "metadata": {},
   "source": [
    "Ler e verificar o conteúdo do MSA"
   ]
  },
  {
   "cell_type": "code",
   "execution_count": 1,
   "metadata": {},
   "outputs": [],
   "source": [
    "#importar modulos que preciso\n",
    "from Bio import AlignIO\n",
    "from Bio.Align import AlignInfo"
   ]
  },
  {
   "cell_type": "markdown",
   "metadata": {},
   "source": [
    "Ler arquivo de alinhamento múltiplo retirado do ClustalW "
   ]
  },
  {
   "cell_type": "code",
   "execution_count": 22,
   "metadata": {},
   "outputs": [
    {
     "name": "stdout",
     "output_type": "stream",
     "text": [
      "Alignment with 20 rows and 836 columns\n",
      "MVRSSKPSLLRRFGALVAAAAMLVVLPAGVSTASAASDDADMLT...SVH dbj|BAX76667.1|\n",
      "MVRSTKPSLLRRFGALVAAAAMLVVLPAGVSTASAASDDADMLT...SVH ref|WP_047271107.1|\n",
      "MVRSTKPSLLRRFGALVAAAAMLVVLPAGVSTASAASDDADMLT...SVH ref|WP_373159260.1|\n",
      "MVRSTKPSLLRRLGALVAAAAMLVVLPAGVSTASAASDDTDMLT...SVH gb|AFL05382.1|\n",
      "MVRSTKPSLLRRFGALVAAAAMLVVLPAGVSTASAASDDADMLT...SVH ref|WP_080828602.1|\n",
      "MVRSTKPSLLRRFGALVAAAAMLVVLPAGVSTASAASDDADMLT...SVH ref|WP_013390360.1|\n",
      "MVRSTKPSLLRRLGALVAAAAMLVVLPAGVSTASAASDDADMLT...SVH ref|WP_195300451.1|\n",
      "MVRSTKPSLLRRLGALVAAAAMLVVLPAGVSTASAASDDADMLT...SVH ref|WP_117630969.1|\n",
      "MVRSTKPSLLRRLGALVAAAAMLVVLPAGVSTASAASDDADMLT...SVH ref|WP_368087819.1|\n",
      "MVRSTKPSLLRRLGALVAAAAMLVVLPAGVSTASAASDDADMLT...SAH ref|WP_198050449.1|\n",
      "MVRSTKPSLLRRLGALVAAAAMLVVLPAGVSTASAASDDADMLT...SAH ref|WP_368092585.1|\n",
      "MVRSTKPSLLRRLGALVAAAAMLVVLPAGVSTASAASDDANMLT...SAH ref|WP_368087674.1|\n",
      "MVRSTKPSLLRRLGALVAAAAMLVVLPAGVSTASAASDDADMLT...SAH ref|WP_047284873.1|\n",
      "MVRSTKPSLLRRLGALVAAAAMLVVLPAGVSTASAASDDADMLT...SVH gb|MDU1287810.1|\n",
      "MVHSTKPSLLRRLGALVAAAAMLVVLPAGVSTASAASDDADMLT...SVH ref|WP_270538817.1|\n",
      "MVRSTKPSLLRRFGALVAAAAMLVVLPAGVSTASAASDDADMLT...SVH ref|WP_270271938.1|\n",
      "MVRSTKPSLLRRFGALVAAAAMLVVLPAGVSTASAASDDADMLT...SVH dbj|GDY91907.1|\n",
      "MVRSTKPSLLRRLGALVAAAAMLVVLPAGVSTASAASDDADMLT...SAH ref|WP_309400242.1|\n",
      "MVRSTKPSLLRRFGALVAAAAMLVVLPAGVSTASAASDDADMLT...SVH ref|WP_047298483.1|\n",
      "MVRSTKPSLLRRFGALVAAAAMLVVLPAGVSTASAASDDADMLT...SAH ref|WP_061871121.1|\n"
     ]
    }
   ],
   "source": [
    "alignment_GH33 = AlignIO.read(\"GH33.aln-fasta\", \"fasta\")\n",
    "print(alignment_GH33)"
   ]
  },
  {
   "cell_type": "markdown",
   "metadata": {},
   "source": [
    "Converter fasta para formato Stockholm "
   ]
  },
  {
   "cell_type": "code",
   "execution_count": 7,
   "metadata": {},
   "outputs": [],
   "source": [
    "convert_GH95 = AlignIO.convert(\"GH33.aln-fasta\", \"fasta\", \"MSA_GH33.sth\", \"stockholm\")"
   ]
  },
  {
   "cell_type": "markdown",
   "metadata": {},
   "source": [
    "Encontrar sequência consenso"
   ]
  },
  {
   "cell_type": "code",
   "execution_count": 9,
   "metadata": {},
   "outputs": [
    {
     "name": "stdout",
     "output_type": "stream",
     "text": [
      "MVRSTKPSLLRRXGALVAAAAMLVVLPAGVSTASAASDDADMLTVTMTRTDALGDEVYVGDTLTYSFTNTNNTSSAFTAFPAESNLSGVLTTGTPNCRYENLAGGASYPCSTASHTITADDLTAGSFTPRTVWKATSDRGGTQVLQDNIVSTGDTVTVKEGKRPDPATIPTDRADGEAVRLATARQNLGTECYRIPALAEAPNGWILAAFDQRPNTAMANGSGVKCWDAPQPNSIVQRISKDGGKSWTPIQYVAQGKNAPERYGYSDPSYVVDKETGEIFLFFVHSYNKGFADSQLGVDESNRNVLHAVVVSSKDNGETWSKPRDITADITKGYENEWKSRFATSGAGIQLKYGKYKGRLIQQYAVGRTTGSNAAVSVYSDDHGKTWQAGNPVTGMLMDENKVVELSDGRVMLNSRPGNGSGYRRVAISXDGGVNYGTVKNETQLPDPNNNAHITRAFPNAPEGSAKAKVLLYSSPRANNEGRANGVVRISLDDGTTWSSGKLYKEGSMAYSVITALSGAAGGGYGLLYEGAWVTGGGIDSHDIMYTHISMDWLGYLSATADDVTASVEEGASTVDVTVPVSNVGSVDYTGVTVTPADLPTGWSASPVNVGALASGXSKDVTVTVNVPATAKKDDVAKIVLRVTGTSAANANATTGFDGSITVNVTEKSEPDPEPEPTITGVSAVTSQAGVKVGDVFDASKVSVTAAMSDGSSKALAAGEYSLSAVDADGKAVDLAEPFAAAGVVTVTVSVPVEGAXPLTASFTIDVAEKSVDPEPKPEPEPKPEPEKPAGPKVDVPTEQPGLSKTGASTAGMSIVFVLLALSGVAALSLRRRSVH\n"
     ]
    }
   ],
   "source": [
    "open_GH33 = AlignIO.read(\"MSA_GH33.sth\", \"stockholm\")\n",
    "summary_GH33 = AlignInfo.SummaryInfo(open_GH33)\n",
    "\n",
    "consensus_GH33 = summary_GH33.gap_consensus()\n",
    "print(consensus_GH33)"
   ]
  },
  {
   "cell_type": "markdown",
   "metadata": {},
   "source": [
    "Localização das sequências onde o alinhamento é conservado "
   ]
  },
  {
   "cell_type": "code",
   "execution_count": 10,
   "metadata": {},
   "outputs": [
    {
     "name": "stdout",
     "output_type": "stream",
     "text": [
      "Posições conservadas: 800\n",
      "Porcentagem de pos conservadas: 95.69%\n"
     ]
    }
   ],
   "source": [
    "#iniciar contador de posições conservadas \n",
    "conserved_pos = 0\n",
    "\n",
    "#iterar pelas colunas\n",
    "for i in range(open_GH33.get_alignment_length()):\n",
    "    column = [record[i] for record in open_GH33]\n",
    "    unique_chars = set(column)\n",
    "    if len(unique_chars) == 1:\n",
    "        conserved_pos += 1\n",
    "\n",
    "#poncentagem das sequências conservadas \n",
    "\n",
    "tot_pos = open_GH33.get_alignment_length()\n",
    "percentage = (conserved_pos / tot_pos) * 100\n",
    "\n",
    "print(f\"Posições conservadas: {conserved_pos}\")\n",
    "print(f\"Porcentagem de pos conservadas: {percentage:.2f}%\")"
   ]
  }
 ],
 "metadata": {
  "kernelspec": {
   "display_name": "Python 3",
   "language": "python",
   "name": "python3"
  },
  "language_info": {
   "codemirror_mode": {
    "name": "ipython",
    "version": 3
   },
   "file_extension": ".py",
   "mimetype": "text/x-python",
   "name": "python",
   "nbconvert_exporter": "python",
   "pygments_lexer": "ipython3",
   "version": "3.11.3"
  }
 },
 "nbformat": 4,
 "nbformat_minor": 2
}
