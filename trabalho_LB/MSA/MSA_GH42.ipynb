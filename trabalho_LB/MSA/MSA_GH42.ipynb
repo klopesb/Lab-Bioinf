{
 "cells": [
  {
   "cell_type": "code",
   "execution_count": 6,
   "metadata": {},
   "outputs": [],
   "source": [
    "#importar modulos que preciso\n",
    "from Bio import AlignIO\n",
    "from Bio.Align import AlignInfo"
   ]
  },
  {
   "cell_type": "code",
   "execution_count": 12,
   "metadata": {},
   "outputs": [
    {
     "name": "stdout",
     "output_type": "stream",
     "text": [
      "Alignment with 20 rows and 689 columns\n",
      "MSKRRKHSWPQPLKGAESRLWYGGDYNPDQWPEEVWDDDIRLMK...LRR ref|WP_047270929.1|\n",
      "MSKRRKHSWPQPLKGAESRLWYGGDYNPDQWPEEVWDDDIRLMK...LRR gb|MDU5849399.1|\n",
      "MSKRRKHSWPQPLKGAESRLWYGGDYNPDQWPEEVWDDDIRLMK...LRR ref|WP_195300590.1|\n",
      "MSKRRKHSWPQPLKGAESRLWYGGDYNPDQWPEEVWDDDIRLMK...LRR gb|MDU1289533.1|\n",
      "MSKRRKHSWPQPLKGAESRLWYGGDYNPDQWPEEVWDDDIRLMK...LRR ref|WP_117789098.1|\n",
      "MSKRRKHSWPQPLKGAESRLWYGGDYNPDQWPEEVWDDDIRLMK...LRR ref|WP_262753234.1|\n",
      "MSKRRKHSWPQPLKGAESRLWYGGDYNPDQWPEEVWDDDIRLMK...LRR ref|WP_057081679.1|\n",
      "MSKRRKHSWPQPLKGAESRLWYGGDYNPDQWPEEVWDDDIRLMK...LRR ref|WP_154056144.1|\n",
      "MSKRRKHSWPQPLKGAESRLWYGGDYNPDQWPEEVWDDDIRLMK...LRR ref|WP_115955644.1|\n",
      "MSKRRKHSWPQPLKGAESRLWYGGDYNPDQWPEEVWDDDIRLMK...LRR ref|WP_271720426.1|\n",
      "MSKRRKHSWPQPLKGAESRLWYGGDYNPDQWPEEVWDDDIRLMK...LRR ref|WP_368095052.1|\n",
      "MSKRRKHSWPQPLKGAESRLWYGGDYNPDQWPEEVWDDDIRLMK...LRR ref|WP_203250341.1|\n",
      "MSKRRKHSWPQPLKGAESRLWYGGDYNPDQWPEEVWDDDIRLMK...LRR ref|WP_013390132.1|\n",
      "MSKRRKHSWPQPLKGAESRLWYGGDYNPDQWPEEVWDDDIRLMK...LRR ref|WP_013363739.1|\n",
      "MSKRRKHSWPQPLKGAESRLWYGGDYNPDQWPEEVWDDDIRLMK...LRR gb|ALE11829.1|\n",
      "MSKRRKHSWPQPLKGAESRLWYGGDYNPDQWPEEVWDDDIRLMK...LRR ref|WP_022173317.1|\n",
      "MSKRRKHSWPQPLKGAESRLWYGGDYNPDQWPEEVWDDDIRLMK...LRR gb|KWZ81481.1|\n",
      "MSKRRKHSWPQPLKGAESRLWYGGDYNPDQWPEEVWDDDIRLMK...LRR ref|WP_271724018.1|\n",
      "MSKRRKHSWPQPLKGAESRLWYGGDYNPDQWPEEVWDDDIRLMK...LR- ref|WP_195338879.1|\n",
      "MSKRRKHSWPQPLKGAESRLWYGGDYNPDQWPEEVWDDDIRLMK...LRR ref|WP_349573978.1|\n"
     ]
    }
   ],
   "source": [
    "alignment_GH42 = AlignIO.read(\"MSA_GH42_CW.fasta\", \"fasta\")\n",
    "print(alignment_GH42)"
   ]
  },
  {
   "cell_type": "code",
   "execution_count": 15,
   "metadata": {},
   "outputs": [],
   "source": [
    "convert_GH42 = AlignIO.convert(\"MSA_GH42_CW.fasta\", \"fasta\", \"MSA_GH42.sth\", \"stockholm\")"
   ]
  },
  {
   "cell_type": "code",
   "execution_count": 16,
   "metadata": {},
   "outputs": [
    {
     "name": "stdout",
     "output_type": "stream",
     "text": [
      "MSKRRKHSWPQPLKGAESRLWYGGDYNPDQWPEEVWDDDIRLMKKAGVNLVSVGIFSWAKIEPEEGKYDFDWLDRAIDKLGKAGIAVDLASATASPPMWLTQAHPEVLWKDERGDTVWPGAREHWRPTSPVFREYALNLCRRMAEHYKGNPYVVAWHVSNEYGCHNRFDYSDDAMRAFQKWCKKRYKTIDAVNEAWGTAFWAQHMNDFSEIIPPRYIGDGNFMNPGKLLDYKRFSSDALKELYIAERDVLESITPGLPLTTNFMVSAGGSMLDYDDWGAEVDFVSNDHYFTPGEAHFDEVAYAASLMDGISRKEPWFQMEHSTSAVNWRPINYRAEPGSVVRDSLAQVAMGADAICYFQWRQSKAGAEKWHSSMVPHAGEDSQIFRDVCELGADLGRLSDEGLMGTKTVKSKVAVVFDYESQWATEYTANPTQQVDHWTEPLDWFRALADNGITADVVPVRSDWDSYEIAVLPCVYLLSEETSRRVREFVANGGKLFVTYYTGLSDENDHIWLGGYPGSIRDVVGVRVEEFAPMGNDMPGALDHLDLDNGTVAHDFADVITSTADTSTVLASYKAERWTGMNEVPAIVANGYGDGRTVYVGCRLGRQGLAKSLPAMLGSMGLSDLAGDGRVLRVERADAAAASHFEFVFNRTHEPVTVDVEGEAIAASLAHVDDGRATIDPTGVVVLRR\n"
     ]
    },
    {
     "name": "stderr",
     "output_type": "stream",
     "text": [
      "c:\\Users\\catia\\Desktop\\Blackboard\\BS\\Trabalhos\\trabalho2\\.venv\\Lib\\site-packages\\Bio\\Align\\AlignInfo.py:159: BiopythonDeprecationWarning: The `gap_consensus` method is deprecated and will be removed in a future release of Biopython. As an alternative, you can convert the multiple sequence alignment object to a new-style Alignment object by via its `.alignment` property, and then create a Motif object. You can then use the `.consensus` or `.degenerate_consensus` property of the Motif object to get a consensus sequence. For more control over how the consensus sequence is calculated, you can call the `calculate_consensus` method on the `.counts` property of the Motif object. This is an example for a multiple sequence alignment `msa` of DNA nucleotides:\n",
      ">>> from Bio.Seq import Seq\n",
      ">>> from Bio.SeqRecord import SeqRecord\n",
      ">>> from Bio.Align import MultipleSeqAlignment\n",
      ">>> from Bio.Align.AlignInfo import SummaryInfo\n",
      ">>> msa = MultipleSeqAlignment([SeqRecord(Seq('ACGT')),\n",
      "...                             SeqRecord(Seq('AT-T')),\n",
      "...                             SeqRecord(Seq('CT-T')),\n",
      "...                             SeqRecord(Seq('GT-T'))])\n",
      ">>> summary = SummaryInfo(msa)\n",
      ">>> gap_consensus = summary.gap_consensus(ambiguous='N')\n",
      ">>> print(gap_consensus)\n",
      "NT-T\n",
      ">>> alignment = msa.alignment\n",
      ">>> from Bio.motifs import Motif\n",
      ">>> motif = Motif('ACGT-', alignment)  # include '-' in alphabet\n",
      ">>> print(motif.consensus)\n",
      "AT-T\n",
      ">>> print(motif.degenerate_consensus)\n",
      "VT-T\n",
      ">>> counts = motif.counts\n",
      ">>> consensus = counts.calculate_consensus(identity=0.7)\n",
      ">>> print(consensus)\n",
      "NT-T\n",
      "\n",
      "If your multiple sequence alignment object was obtained using Bio.AlignIO, then you can obtain a new-style Alignment object directly by using Bio.Align.read instead of Bio.AlignIO.read, or Bio.Align.parse instead of Bio.AlignIO.parse.\n",
      "  warnings.warn(\n"
     ]
    }
   ],
   "source": [
    "open_GH42 = AlignIO.read(\"MSA_GH42.sth\", \"stockholm\")\n",
    "summary_GH42 = AlignInfo.SummaryInfo(open_GH42)\n",
    "\n",
    "consensus_GH42 = summary_GH42.gap_consensus()\n",
    "print(consensus_GH42)"
   ]
  },
  {
   "cell_type": "code",
   "execution_count": 17,
   "metadata": {},
   "outputs": [
    {
     "name": "stdout",
     "output_type": "stream",
     "text": [
      "Posições conservadas: 668\n",
      "Porcentagem de pos conservadas: 96.95%\n"
     ]
    }
   ],
   "source": [
    "#iniciar contador de posições conservadas \n",
    "conserved_pos = 0\n",
    "\n",
    "#iterar pelas colunas\n",
    "for i in range(open_GH42.get_alignment_length()):\n",
    "    column = [record[i] for record in open_GH42]\n",
    "    unique_chars = set(column)\n",
    "    if len(unique_chars) == 1:\n",
    "        conserved_pos += 1\n",
    "\n",
    "#poncentagem das sequências conservadas \n",
    "\n",
    "tot_pos = open_GH42.get_alignment_length()\n",
    "percentage = (conserved_pos / tot_pos) * 100\n",
    "\n",
    "print(f\"Posições conservadas: {conserved_pos}\")\n",
    "print(f\"Porcentagem de pos conservadas: {percentage:.2f}%\")"
   ]
  }
 ],
 "metadata": {
  "kernelspec": {
   "display_name": ".venv",
   "language": "python",
   "name": "python3"
  },
  "language_info": {
   "codemirror_mode": {
    "name": "ipython",
    "version": 3
   },
   "file_extension": ".py",
   "mimetype": "text/x-python",
   "name": "python",
   "nbconvert_exporter": "python",
   "pygments_lexer": "ipython3",
   "version": "3.12.6"
  }
 },
 "nbformat": 4,
 "nbformat_minor": 2
}
