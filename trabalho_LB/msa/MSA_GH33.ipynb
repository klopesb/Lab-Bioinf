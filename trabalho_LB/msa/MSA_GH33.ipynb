{
 "cells": [
  {
   "cell_type": "markdown",
   "metadata": {},
   "source": [
    "### Alinhamento Múltiplo - MSA"
   ]
  },
  {
   "cell_type": "markdown",
   "metadata": {},
   "source": [
    "Ler e verificar o conteúdo do MSA"
   ]
  },
  {
   "cell_type": "code",
   "execution_count": 1,
   "metadata": {},
   "outputs": [],
   "source": [
    "#importar modulos que preciso\n",
    "from Bio import AlignIO\n",
    "from Bio.Align import AlignInfo"
   ]
  },
  {
   "cell_type": "markdown",
   "metadata": {},
   "source": [
    "Ler arquivo de alinhamento múltiplo retirado do ClustalW "
   ]
  },
  {
   "cell_type": "code",
   "execution_count": 2,
   "metadata": {},
   "outputs": [
    {
     "name": "stdout",
     "output_type": "stream",
     "text": [
      "Alignment with 21 rows and 2138 columns\n",
      "--------------------------------------------...--- Arcanobacterium_ihumii\n",
      "--------------------------------------------...--- Arcanobacterium_bovis\n",
      "--------------------------------------------...--- Arcanobacterium_pluranimalium\n",
      "--------------------------------------------...--- Tessaracoccus_sp.\n",
      "MSTPRARRGWSAFVALSATVALTVTPLTAWASPGETPPQPEPQA...RR- Actinotignum_timonense\n",
      "-------------MALSATVALTVTPLTAWASPGETPPQPEPQA...RR- Actinotignum_sanguinis\n",
      "MSTPRARRGWSAFVALSATVALTVTPLTAWASPGETPPQPEPQA...RR- Actinotignum_schaalii\n",
      "--------------------------------------------...DRR Actinobaculum_massiliense\n",
      "--------------------------------------------...--- Bifidobacterium_leontopitheci\n",
      "--------------------------------------------...--- Schaalia_odontolytica\n",
      "--------------------------------------------...--- Pauljensenia_sp.\n",
      "--------------------------------------------...--- Isoptericola_variabilis\n",
      "--------------------------------------------...--- Gardnerella_vaginalis\n",
      "--------------------------------------------...--- Gardnerella_piotii\n",
      "--------------------------------------------...--- Bowdeniella_nasicola\n",
      "--------------------------------------------...--- Bifidobacterium_aerophilum\n",
      "--------------------------------------------...--- Bifidobacterium_samirii\n",
      "--------------------------------------------...--- Bifidobacterium_mongoliense\n",
      "...\n",
      "--------------------------------------------...--- Bifidobacterium_longum\n"
     ]
    }
   ],
   "source": [
    "alignment_GH33 = AlignIO.read(\"GH33.aln-fasta\", \"fasta\")\n",
    "print(alignment_GH33)"
   ]
  },
  {
   "cell_type": "markdown",
   "metadata": {},
   "source": [
    "Converter fasta para formato Stockholm "
   ]
  },
  {
   "cell_type": "code",
   "execution_count": 3,
   "metadata": {},
   "outputs": [],
   "source": [
    "convert_GH95 = AlignIO.convert(\"GH33.aln-fasta\", \"fasta\", \"MSA_GH33.sth\", \"stockholm\")"
   ]
  },
  {
   "cell_type": "markdown",
   "metadata": {},
   "source": [
    "Encontrar sequência consenso"
   ]
  },
  {
   "cell_type": "code",
   "execution_count": 4,
   "metadata": {},
   "outputs": [
    {
     "name": "stdout",
     "output_type": "stream",
     "text": [
      "--------------------------------------------------------------------------------------------------------------------------------------------------------------------------------------------------------------------------------------------------------------------------------------------------------------------------------------------------------------------------------------------------------------------------------------------------------------------------------------------------------------------------------------------------------------------------------XXXXX-------------------------------------------XXXXXXXXXXX------XX----X--------XXX-----XXX--XXXXX--XXX--XXXXXXXX---------XXXXXXXXXXXX----XXXXX-XXX--XXXXXXXXXXXXXXXXXXXXXXXXXX-----XXXXXXXXXXXXXXXXXXVXXXRTDXXGXXVXXGXXLTXXXXYTNXXXXXXTAFPXXSNLXXXXXX-XXXNCRXXXLAXGXTXXCXX-----XXHXVTXXDXXXGXFTPXXXXXATXDRXGXXVXQXXIXXXXXXVXXXXXXXXXXXDXXXXPXXRXXXEXVXLAXXXX-XXXXCXRIPAXXXAXNGWILAAXDXRPX---------XCXDXPXXNSIXXRISKDGGKSWXXXXXXXXGXXXX-XXXXXGYSDPSXVVDXETGXIFLFXVKSYXXGXXXSXXGXDXXXRXXLHAXVXXSXDNGXTWSXPRXITXXXTXXXXXXXXXRFAXSGXGIQLXY-GXHXGRLXQQYXXXXXXXXXXXAVSVYSDDHGXTWXXGXPX-----XXXMDENKVVELSDGXXMLNSRXXXX-XXXRXXAISXDGGXTYXXX-------XXXXXLXDPXNNAXIXRAXPXAPXGSXXAKXLLXSXXX-XXXXRXNGXXRXSXDDGXTWXXXKXFXXGXMXYSXXXXLXX---XXXGXXGXLYEXXX-------XXXXXYXXXXXXWLGXXXXXAXXXXX--XXXXXXXXXXXXXX----------------XXNXGXXXXXXXXXX-------XXXXXXGWXXXXXXX----XX---XXXXXXXXXXXXXXXXXXXXX----XXGXXXXXXXXXXXXXXXXXXX-XXXXX-------XXXXXXXXXXXXXXXXXXXXXX--XXXXXXXXXXXXXXXXXXXXXXXXXXXXXXXXXXXXXXXXXXXXXXXXXXXXXX----XXXXXXXXX----XXXXXXXXXXXXXXXXXXXXXXXXXXXXXXXXXXXXXXXXXXXXXXXX-X--------------------------------------------------------XXXXXXXXXXXXXXXXXXXXXXXXXXXXX--XXXXX----XXXXXXXXXXX--XXXXXXXXXXXXXXX-----------------------------------------------------------XXXX-XXXXXXXXXXXXXXXXXXXXXX-------XXXX---XXXXXXXXXXXXXXX-----XXXXXXXXXXXXX-----XX-----XXXXXXXXX------XXXXXXXXXXXXXXXXXXXXXXXXXXXXXXXXXXXXXXX-----------GXXXXXXXXXXXXXX-----------------------------------------------------------------------------------------------------------------------------------------------------------------------------------------------------\n"
     ]
    },
    {
     "name": "stderr",
     "output_type": "stream",
     "text": [
      "C:\\Users\\elidi\\AppData\\Roaming\\Python\\Python311\\site-packages\\Bio\\Align\\AlignInfo.py:159: BiopythonDeprecationWarning: The `gap_consensus` method is deprecated and will be removed in a future release of Biopython. As an alternative, you can convert the multiple sequence alignment object to a new-style Alignment object by via its `.alignment` property, and then create a Motif object. You can then use the `.consensus` or `.degenerate_consensus` property of the Motif object to get a consensus sequence. For more control over how the consensus sequence is calculated, you can call the `calculate_consensus` method on the `.counts` property of the Motif object. This is an example for a multiple sequence alignment `msa` of DNA nucleotides:\n",
      ">>> from Bio.Seq import Seq\n",
      ">>> from Bio.SeqRecord import SeqRecord\n",
      ">>> from Bio.Align import MultipleSeqAlignment\n",
      ">>> from Bio.Align.AlignInfo import SummaryInfo\n",
      ">>> msa = MultipleSeqAlignment([SeqRecord(Seq('ACGT')),\n",
      "...                             SeqRecord(Seq('AT-T')),\n",
      "...                             SeqRecord(Seq('CT-T')),\n",
      "...                             SeqRecord(Seq('GT-T'))])\n",
      ">>> summary = SummaryInfo(msa)\n",
      ">>> gap_consensus = summary.gap_consensus(ambiguous='N')\n",
      ">>> print(gap_consensus)\n",
      "NT-T\n",
      ">>> alignment = msa.alignment\n",
      ">>> from Bio.motifs import Motif\n",
      ">>> motif = Motif('ACGT-', alignment)  # include '-' in alphabet\n",
      ">>> print(motif.consensus)\n",
      "AT-T\n",
      ">>> print(motif.degenerate_consensus)\n",
      "VT-T\n",
      ">>> counts = motif.counts\n",
      ">>> consensus = counts.calculate_consensus(identity=0.7)\n",
      ">>> print(consensus)\n",
      "NT-T\n",
      "\n",
      "If your multiple sequence alignment object was obtained using Bio.AlignIO, then you can obtain a new-style Alignment object directly by using Bio.Align.read instead of Bio.AlignIO.read, or Bio.Align.parse instead of Bio.AlignIO.parse.\n",
      "  warnings.warn(\n"
     ]
    }
   ],
   "source": [
    "open_GH33 = AlignIO.read(\"MSA_GH33.sth\", \"stockholm\")\n",
    "summary_GH33 = AlignInfo.SummaryInfo(open_GH33)\n",
    "\n",
    "consensus_GH33 = summary_GH33.gap_consensus()\n",
    "print(consensus_GH33)"
   ]
  },
  {
   "cell_type": "markdown",
   "metadata": {},
   "source": [
    "Localização das sequências onde o alinhamento é conservado "
   ]
  },
  {
   "cell_type": "code",
   "execution_count": 5,
   "metadata": {},
   "outputs": [
    {
     "name": "stdout",
     "output_type": "stream",
     "text": [
      "Posições conservadas: 45\n",
      "Porcentagem de pos conservadas: 2.10%\n"
     ]
    }
   ],
   "source": [
    "#iniciar contador de posições conservadas \n",
    "conserved_pos = 0\n",
    "\n",
    "#iterar pelas colunas\n",
    "for i in range(open_GH33.get_alignment_length()):\n",
    "    column = [record[i] for record in open_GH33]\n",
    "    unique_chars = set(column)\n",
    "    if len(unique_chars) == 1:\n",
    "        conserved_pos += 1\n",
    "\n",
    "#poncentagem das sequências conservadas \n",
    "\n",
    "tot_pos = open_GH33.get_alignment_length()\n",
    "percentage = (conserved_pos / tot_pos) * 100\n",
    "\n",
    "print(f\"Posições conservadas: {conserved_pos}\")\n",
    "print(f\"Porcentagem de pos conservadas: {percentage:.2f}%\")"
   ]
  }
 ],
 "metadata": {
  "kernelspec": {
   "display_name": "Python 3",
   "language": "python",
   "name": "python3"
  },
  "language_info": {
   "codemirror_mode": {
    "name": "ipython",
    "version": 3
   },
   "file_extension": ".py",
   "mimetype": "text/x-python",
   "name": "python",
   "nbconvert_exporter": "python",
   "pygments_lexer": "ipython3",
   "version": "3.11.3"
  }
 },
 "nbformat": 4,
 "nbformat_minor": 2
}
