{
 "cells": [
  {
   "cell_type": "markdown",
   "metadata": {},
   "source": [
    "### Alinhamento Múltiplo - MSA"
   ]
  },
  {
   "cell_type": "markdown",
   "metadata": {},
   "source": [
    "Ler e verificar o conteúdo do MSA"
   ]
  },
  {
   "cell_type": "code",
   "execution_count": 21,
   "metadata": {},
   "outputs": [],
   "source": [
    "#importar modulos que preciso\n",
    "from Bio import AlignIO\n",
    "from Bio.Align import AlignInfo"
   ]
  },
  {
   "cell_type": "markdown",
   "metadata": {},
   "source": [
    "Ler arquivo de alinhamento múltiplo retirado do ClustalW "
   ]
  },
  {
   "cell_type": "code",
   "execution_count": 22,
   "metadata": {},
   "outputs": [
    {
     "name": "stdout",
     "output_type": "stream",
     "text": [
      "Alignment with 20 rows and 1959 columns\n",
      "MKHRAMSSRLMPLVASCATIGMLLAGLPASAVAVGTTRAAASDA...RSA ref|WP_271717285.1|\n",
      "MKHRAMSSRLMPLVASCATVGMLLAGLPVSAVAVGTTRAAASDA...HSA ref|WP_047271410.1|\n",
      "-----MSSRLMPLVASCATVGMLLAGLPVSAVAVGTTRAAASDA...HSA ref|WP_274982200.1|\n",
      "MKHRAMSSRLMPLVASCATVGMLLAGLPASAVAVGTTRAAASDA...HSA ref|WP_271723063.1|\n",
      "MKHRAMSSRLMPLVASCATVGMLLAGLPVSAVAVGTTRAAASDA...RSA gb|MBD9131622.1|\n",
      "MKHRAMSSRLMPLVASCATVGMLLAGLPASAVAVGTTRAAASDA...RSA ref|WP_368090625.1|\n",
      "MKHRAMSSRLMPLVASCATVGMLLAGLPASAVAVSTTRAAASDA...HSA ref|WP_269337418.1|\n",
      "MKHRAMSSRLMPLVASCATVGMLLAGLPVSAVAVGTTRAAASDA...RSA gb|MDU5850738.1|\n",
      "MEHLAMSSRLMPLVASCATVGMLLAGLPASAVAVGTTRAAASDA...RSA ref|WP_065434570.1|\n",
      "MKHRAMSSRLMPLVASCATVGMLLAGLPASAVAVGTTRAAASDA...RSA ref|WP_237927589.1|\n",
      "MKHRAMSSRLMPLVASCATVGMLLAGLPASAVAVGTTRAAASDA...RSA ref|WP_138267596.1|\n",
      "MKHRAMSSRLMPLVASCATVGMLLAGLPASAVAVGTTRAAASDA...RSA ref|WP_138284574.1|\n",
      "MKHRAMSSRLMPLVASCATVGMLLAGLPASAVAVGTTRAAASDA...RSA ref|WP_368103001.1|\n",
      "MKHRAMSSRLMPLVASCATVGMLLAGLPASAVAVGTTRAAASDA...RSA ref|WP_368088412.1|\n",
      "MKHRAMSSRLMPLVASCATVGMLLAGLPVSAVAVGTTRAAASDA...HSA gb|MDU2042071.1|\n",
      "MKHRAMSSRLMPLVASCATVGMLLAGLPASAVAVGTTRAAASDA...HSA ref|WP_047290433.1|\n",
      "MKHRAMSSRLMPLVASCATVGMLLAGLPASAVAVGTTRAAASDA...HSA ref|WP_368089819.1|\n",
      "MKHRAMSSRLMPLVASCATVGMLLAGLPASAVAVGTTRAAASDA...HSA ref|WP_368087854.1|\n",
      "MKHRAMSSRLMPLVASCATVGMLLAGLPVSAVAVGTTRAAASDA...HSA ref|WP_047286992.1|\n",
      "MKHRAMSSRLMPLVASCATVGMLLAGLPVSAVAVGTTRAAASDA...HSA ref|WP_061870764.1|\n"
     ]
    }
   ],
   "source": [
    "alignment_GH95 = AlignIO.read(\"msa_gh95\", \"fasta\")\n",
    "print(alignment_GH95)"
   ]
  },
  {
   "cell_type": "markdown",
   "metadata": {},
   "source": [
    "Converter fasta para formato Stockholm "
   ]
  },
  {
   "cell_type": "code",
   "execution_count": 23,
   "metadata": {},
   "outputs": [],
   "source": [
    "convert_GH95 = AlignIO.convert(\"msa_gh95\", \"fasta\", \"msa_gh95.sth\", \"stockholm\")"
   ]
  },
  {
   "cell_type": "markdown",
   "metadata": {},
   "source": [
    "Encontrar sequência consenso"
   ]
  },
  {
   "cell_type": "code",
   "execution_count": 25,
   "metadata": {},
   "outputs": [
    {
     "name": "stdout",
     "output_type": "stream",
     "text": [
      "MKHRAMSSRLMPLVASCATVGMLLAGLPXSAVAVGTTRAAASDASSSTTATITPSADTTLQTWTSEKNSSMASKPYIGTLQGPSQGVFGEKFESTDAADTTDLKTGLLTFDLSAYDHAPDSATFEMTYLGYRGNPTATDTDTIKVTPVDTTVCTNNATDCGANVATGATKPKFSINDSSFVAESKPFEYGTTVYXGDAITVVPANTKKVTVDVTEIVRQQFAEGKKVITLAVGETKKTEVRFASSEGTTSLNGATADMAPKLTVSVSTKDDLKPSADTTLQAWASEKNEKKNTAAYVGALQPEGDYGDFGEKFKSTDVHDVTDAKMGLMTFDLSDYTAAPEHSILTLTYLGYAGADKTATATDKVKVVAVDTSRCTGTAPCDTNNATWANRPDFEVTDTTKTATSHAFAYGSKKYSDGMTVESGNAKKVLLDVTDXIKAEFAKFSAGATEKKITLALGELNKSDMRFGSKEVTSLTGATEAMQPTLSVTKKPKAYTLSIEGPTKVKYQKGEAFDKAGLVVKATSTADGTVKTLTEGNGEDNYTIDTSAFDSASIGVYPITVKYNKDPEIAASFNAYVIASVEDGGDGDTSKDDWLWYKQPASQTDATATAGGNYGNPDNNRWQQTTLPFGNGKIGGTVWGEVSRERVTFNEETLWTGGPGSSTSYNGGNNETKGQNGATLRALNKQLANGAETVNPGNLTGGENAAEQGNYLNWGDIYLDYGFNDTTVTEYRRDLNLSKGKADVTFKHDGVTYTREYFASNPDNVMVARLTASKAGKLNFNVSMPTNTNYSKTGETTTVKGDTLTVKGALGNNGLLYNSQIKVVLDNGEGTLSEGXDGASLKVSDAKAVTLYIAAATDYKQKYPSYRTGETAAEVNTRVAKVVQDAANKGYTAVKKAHIADHSAIYDRVKIDLGQSGHSSDGAVATDALLKAYQRGSATTAQKRELETLVYKYGRYLTIGSSRENSQLPSNLQGIWSVTAGDNAHGNTPWGSDFHMNVNLQMNYWPTYSANMGELAEPLIEYVEGLVKPGRVTAKVYAGAETTNPETTPIGEGEGYMAHTENTAYGWTAPGQSFSWGWSPAAVPWILQNVYEAYEYSGDPALLXRVYALLKEESHFYVNYMLHKAGSSSGDRLTTGVAYSPEQGPLGTDGNTYESSLVWQMLNDAIEAAKAKGDPDGLVGXTTDCSAXNWAKGDNGNFTDANANRSWSCAKSLLKPIEVGDSGQIKEWYFEGALGKKKDGSAISGYQADNQHRHMSHLLGLFPGDLITIDNSEYMXAAKTSLRYRCFKGNVLQSNTGWAIGQRINSWARTGDGNTTYQLVELQLKNAMYANLFDYHAPFQIDGNFGNTSGVDEMLLQSNSTFTDTXGKKYVNYTNILPALPDAWAXGSVSGLVARGNFTVGTTWKNGKATEVKLTSNKGKQAAVKITAGGAQNYEVKNGDTAVNAKVVTNADGASLLVFDTTAGTTYTITKKASANVPVTGVTVTGANTATAGDTVTLTATVAPANATDKSVTWSTSDAAVATVNANGVVTTKKAGKVTITATSNGDKTKFGSIEITVSAATVPVTSVTVAGDAAMTVDGEQTLTATVAPAXATDKTVTWKSSDATVATVDANGKVVAKKAGEVTITATAGGVSGTLKITVSDKAPTVIPVQSVTVTGKQELVEGASTTLTATVAPADATDKTVTWKSSDESVATVDKDGVVTAKKAGTVTITATAGGVSGTLHITVTAKPVETVPVTSVEVTVEAGTTVSVGKTLQATATVKPGNATNKKVTWKSSDESIATVDANGVITAKKAGKVVITATSTDGTDKSGSVEITVVDETKPTPDHKSVKADTGDVTAGKTGTVTEPKDVAGWKSRSIIKQGKLGKAEIADGTLVYAAGDKTGDDSFVVQYTMADGTVIDVTYSVTVKAAETGKNDGDGKGDGVAKTGAAVGALAGLGLMLLAVGVSVVMIRRKXSA\n"
     ]
    }
   ],
   "source": [
    "open_GH95 = AlignIO.read(\"msa_gh95.sth\", \"stockholm\")\n",
    "summary_GH95 = AlignInfo.SummaryInfo(open_GH95)\n",
    "\n",
    "consensus_GH95 = summary_GH95.gap_consensus()\n",
    "print(consensus_GH95)"
   ]
  },
  {
   "cell_type": "markdown",
   "metadata": {},
   "source": [
    "Localização das sequências onde o alinhamento é conservado "
   ]
  },
  {
   "cell_type": "code",
   "execution_count": 26,
   "metadata": {},
   "outputs": [
    {
     "name": "stdout",
     "output_type": "stream",
     "text": [
      "Posições conservadas: 1893\n",
      "Porcentagem de pos conservadas: 96.63%\n"
     ]
    }
   ],
   "source": [
    "#iniciar contador de posições conservadas \n",
    "conserved_pos = 0\n",
    "\n",
    "#iterar pelas colunas\n",
    "for i in range(open_GH95.get_alignment_length()):\n",
    "    column = [record[i] for record in open_GH95]\n",
    "    unique_chars = set(column)\n",
    "    if len(unique_chars) == 1:\n",
    "        conserved_pos += 1\n",
    "\n",
    "#poncentagem das sequências conservadas \n",
    "\n",
    "tot_pos = open_GH95.get_alignment_length()\n",
    "percentage = (conserved_pos / tot_pos) * 100\n",
    "\n",
    "print(f\"Posições conservadas: {conserved_pos}\")\n",
    "print(f\"Porcentagem de pos conservadas: {percentage:.2f}%\")"
   ]
  }
 ],
 "metadata": {
  "kernelspec": {
   "display_name": "Python 3",
   "language": "python",
   "name": "python3"
  },
  "language_info": {
   "codemirror_mode": {
    "name": "ipython",
    "version": 3
   },
   "file_extension": ".py",
   "mimetype": "text/x-python",
   "name": "python",
   "nbconvert_exporter": "python",
   "pygments_lexer": "ipython3",
   "version": "3.12.6"
  }
 },
 "nbformat": 4,
 "nbformat_minor": 2
}
