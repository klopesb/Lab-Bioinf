{
  "cells": [
    {
      "cell_type": "markdown",
      "metadata": {
        "id": "omcItcAkcXD6"
      },
      "source": [
        "### Alinhamento Múltiplo - MSA"
      ]
    },
    {
      "cell_type": "markdown",
      "metadata": {
        "id": "GusFZZEScXEA"
      },
      "source": [
        "Ler e verificar o conteúdo do MSA"
      ]
    },
    {
      "cell_type": "code",
      "execution_count": 3,
      "metadata": {
        "id": "ehRmLShXcXEB"
      },
      "outputs": [],
      "source": [
        "from Bio import AlignIO\n",
        "from Bio.Align import AlignInfo"
      ]
    },
    {
      "cell_type": "code",
      "source": [
        "!pip install biopython\n",
        "!apt-get update\n",
        "!apt-get install muscle"
      ],
      "metadata": {
        "colab": {
          "base_uri": "https://localhost:8080/"
        },
        "collapsed": true,
        "id": "MJxQnvGUcfOa",
        "outputId": "df4981b8-23f0-40fa-915a-1fba4378a150"
      },
      "execution_count": 2,
      "outputs": [
        {
          "output_type": "stream",
          "name": "stdout",
          "text": [
            "Collecting biopython\n",
            "  Downloading biopython-1.85-cp311-cp311-manylinux_2_17_x86_64.manylinux2014_x86_64.whl.metadata (13 kB)\n",
            "Requirement already satisfied: numpy in /usr/local/lib/python3.11/dist-packages (from biopython) (1.26.4)\n",
            "Downloading biopython-1.85-cp311-cp311-manylinux_2_17_x86_64.manylinux2014_x86_64.whl (3.3 MB)\n",
            "\u001b[?25l   \u001b[90m━━━━━━━━━━━━━━━━━━━━━━━━━━━━━━━━━━━━━━━━\u001b[0m \u001b[32m0.0/3.3 MB\u001b[0m \u001b[31m?\u001b[0m eta \u001b[36m-:--:--\u001b[0m\r\u001b[2K   \u001b[91m━━━━━━━━━━━━━━━━━━━━━━━━━━━━━━━━━━━━━━━\u001b[0m\u001b[91m╸\u001b[0m \u001b[32m3.3/3.3 MB\u001b[0m \u001b[31m104.2 MB/s\u001b[0m eta \u001b[36m0:00:01\u001b[0m\r\u001b[2K   \u001b[90m━━━━━━━━━━━━━━━━━━━━━━━━━━━━━━━━━━━━━━━━\u001b[0m \u001b[32m3.3/3.3 MB\u001b[0m \u001b[31m58.5 MB/s\u001b[0m eta \u001b[36m0:00:00\u001b[0m\n",
            "\u001b[?25hInstalling collected packages: biopython\n",
            "Successfully installed biopython-1.85\n",
            "Get:1 https://developer.download.nvidia.com/compute/cuda/repos/ubuntu2204/x86_64  InRelease [1,581 B]\n",
            "Get:2 https://cloud.r-project.org/bin/linux/ubuntu jammy-cran40/ InRelease [3,626 B]\n",
            "Hit:3 http://archive.ubuntu.com/ubuntu jammy InRelease\n",
            "Get:4 http://security.ubuntu.com/ubuntu jammy-security InRelease [129 kB]\n",
            "Get:5 https://r2u.stat.illinois.edu/ubuntu jammy InRelease [6,555 B]\n",
            "Get:6 http://archive.ubuntu.com/ubuntu jammy-updates InRelease [128 kB]\n",
            "Get:7 https://developer.download.nvidia.com/compute/cuda/repos/ubuntu2204/x86_64  Packages [1,304 kB]\n",
            "Hit:8 https://ppa.launchpadcontent.net/deadsnakes/ppa/ubuntu jammy InRelease\n",
            "Hit:9 https://ppa.launchpadcontent.net/graphics-drivers/ppa/ubuntu jammy InRelease\n",
            "Hit:10 https://ppa.launchpadcontent.net/ubuntugis/ppa/ubuntu jammy InRelease\n",
            "Get:11 http://archive.ubuntu.com/ubuntu jammy-backports InRelease [127 kB]\n",
            "Get:12 https://r2u.stat.illinois.edu/ubuntu jammy/main amd64 Packages [2,650 kB]\n",
            "Get:13 https://r2u.stat.illinois.edu/ubuntu jammy/main all Packages [8,637 kB]\n",
            "Get:14 http://security.ubuntu.com/ubuntu jammy-security/main amd64 Packages [2,604 kB]\n",
            "Get:15 http://security.ubuntu.com/ubuntu jammy-security/universe amd64 Packages [1,229 kB]\n",
            "Get:16 http://archive.ubuntu.com/ubuntu jammy-updates/universe amd64 Packages [1,521 kB]\n",
            "Get:17 http://archive.ubuntu.com/ubuntu jammy-updates/main amd64 Packages [2,904 kB]\n",
            "Fetched 21.2 MB in 4s (6,011 kB/s)\n",
            "Reading package lists... Done\n",
            "W: Skipping acquire of configured file 'main/source/Sources' as repository 'https://r2u.stat.illinois.edu/ubuntu jammy InRelease' does not seem to provide it (sources.list entry misspelt?)\n",
            "Reading package lists... Done\n",
            "Building dependency tree... Done\n",
            "Reading state information... Done\n",
            "The following NEW packages will be installed:\n",
            "  muscle\n",
            "0 upgraded, 1 newly installed, 0 to remove and 23 not upgraded.\n",
            "Need to get 244 kB of archives.\n",
            "After this operation, 709 kB of additional disk space will be used.\n",
            "Get:1 http://archive.ubuntu.com/ubuntu jammy/universe amd64 muscle amd64 1:3.8.1551-2build1 [244 kB]\n",
            "Fetched 244 kB in 1s (472 kB/s)\n",
            "Selecting previously unselected package muscle.\n",
            "(Reading database ... 124950 files and directories currently installed.)\n",
            "Preparing to unpack .../muscle_1%3a3.8.1551-2build1_amd64.deb ...\n",
            "Unpacking muscle (1:3.8.1551-2build1) ...\n",
            "Setting up muscle (1:3.8.1551-2build1) ...\n",
            "Processing triggers for man-db (2.10.2-1) ...\n"
          ]
        }
      ]
    },
    {
      "cell_type": "markdown",
      "metadata": {
        "id": "kG8dMdrfcXEE"
      },
      "source": [
        "Ler arquivo de alinhamento múltiplo retirado do ClustalW"
      ]
    },
    {
      "cell_type": "code",
      "execution_count": 4,
      "metadata": {
        "colab": {
          "base_uri": "https://localhost:8080/"
        },
        "id": "q9lI_GAIcXEE",
        "outputId": "27d669bf-69c6-48a0-84ab-4d133954537f"
      },
      "outputs": [
        {
          "output_type": "stream",
          "name": "stdout",
          "text": [
            "Alignment with 12 rows and 2024 columns\n",
            "MNERGILWSFLAILCRKGKEIKRRMKKKQVVSGLLATVMIANIA...S-- Clostridium_nexile\n",
            "------------------------MKKKQVVSGLLATVMIANIA...S-- Coprococcus_phoceensis\n",
            "------------------------MNKKQGVIGLVATVMIANAA...S-- Catenibacterium_mitsuokai\n",
            "------------------------MNKKQGVIGLVATVMIANAA...S-- Coprobacillus_sp._K06\n",
            "------------------------MNKKQGVIGLVATVMIANAA...S-- Catenibacterium_tridentinum\n",
            "---------------------MKRKKLISI---LLTTVIVANFI...--- Clostridium_tertium\n",
            "---------------------MQLKGIRRALGGIIAAATLLSIG...--- Bifidobacterium_aerophilum\n",
            "---------------------MRTRSLRQALGGIIAAATLLGVG...SAR Bifidobacterium_jacchi\n",
            "---------------------MRLQKLRKAISSIAAAATLLGVG...--- Bifidobacterium_leontopitheci\n",
            "---------------------MRPHRARAALGGLLATATLLGLS...--- Bifidobacterium_samirii\n",
            "---------------------MRLRRVKAAIGSVLAAVTLLSMS...--- Bifidobacterium_bifidum\n",
            "---------------------MRLRRVKAAIGSVLAAVTLLSTS...--- Bifidobacteriaceae_bacterium_MCC01958\n"
          ]
        }
      ],
      "source": [
        "alignment_GH20 = AlignIO.read(\"GH20.aln-fasta\", \"fasta\")\n",
        "print(alignment_GH20)"
      ]
    },
    {
      "cell_type": "markdown",
      "metadata": {
        "id": "SQ7mib_5cXEF"
      },
      "source": [
        "Converter fasta para formato Stockholm"
      ]
    },
    {
      "cell_type": "code",
      "execution_count": 5,
      "metadata": {
        "id": "IJrnXyZTcXEG"
      },
      "outputs": [],
      "source": [
        "convert_GH20 = AlignIO.convert(\"GH20.aln-fasta\", \"fasta\", \"MSA_GH20.sth\", \"stockholm\")"
      ]
    },
    {
      "cell_type": "markdown",
      "metadata": {
        "id": "W4I6vR3scXEG"
      },
      "source": [
        "Encontrar sequência consenso"
      ]
    },
    {
      "cell_type": "code",
      "execution_count": 6,
      "metadata": {
        "colab": {
          "base_uri": "https://localhost:8080/"
        },
        "id": "gHLeUgyXcXEH",
        "outputId": "ecd91103-b939-4fd8-f0da-b4c571fb8277"
      },
      "outputs": [
        {
          "output_type": "stream",
          "name": "stdout",
          "text": [
            "---------------------XXXXXXXXXXXXXXAXXXXXXXXXXXXXXXXAXXXXNLAXXXXVTASSYEVXXX--XXPXKAVDGDXXTRWGTAQNKAXNEWIXXXLXGX-KTVRQINIXFERXDXXQNILXYKVELXXX-GXYXXVYXK---XXXAKQXEXIXLDXXXXAXXVKVTXLXADG--GTXNWXNVGINEIXVYSXXXXXXXXTXXXNHMXXATXTASSXEXXXX-XXXDKXXD-XXXXXXXRWASXYETPXXXIWXXXXFXXXTXXKXXXIXFXXRDVXPXPSNVXSFDXXYXDXXGXEXXXKXXXXXX--XXGXGYXXXXXIXLDXXXXAXXLXLXNFXXX---XXXXNNXSIXEXEXYSNXQXXXXATLDSVVXXXEXXXXTIXXDXXTLXXPXVPXGXTVXXNGADXEQXIXXDGXIXHPLXDKXVXVSYVVTXTXTXXXKXTXDXXYXVKGXXXQXXXXNXKPXXIPEIXEWXSXSXXKXXXXXXXXVXYXDDXLKAVVDEFVXDYXDFTGXXLTXXKGX-XXANAFNFXXXXXX--XXXXXXLGDEGYTMDIXXDRXXXXSXXXTGNMYXMQTILQMXKXDXXXXXIGXMRDYPRFXXRGFLXDVARKPVSLXMXXXXXRTMRYYKMNDFQXHLSDNYIFLEXYGKXXXEXEAFKAYXAFRLESXLXNXKGEXPTAXDYXISKKDFXXFIQXERALGMNXVPEIDVPAHAXSFTKXWPELMVXNKVSXXNXNRPLIDHLDVSKXETXXKIKEIFDDYTKGXXPTFDXXTTVHIGADEFLXXYTAYRXFXNXXVPXXKXTNTVRMWGGLTWIXDXXXTXIXXXAIXNVEMNLWSXDWADGXXMYXMGYKLINTIDXXGYMVPNGXXXRANAYGDLLNVXRXFNXFEXNXVXXXXGXYXYVPXGDDQMLGAAFAXWSDNIDKXASGLXESDLYWRFFDAXPFYAEKTWAATGKEKGXAXXLXXLAXXXGTGPXTNPYYXXXXX-XXXYESYXFXXXX----XDXSXNXRDLXXG-XXXXAXXKDXXLXLXXGXSYXTXPXXXLGNGNXLSFDIXLXXXAKPGDILFEXDAXYGTHDIRXMXDGKLGFTRELYXYXFDYELPVGKXVXXXIXXXQQKTXLYVXGEXVXDAXGKFIXXXXVKKXXITXXTFALPLXRIGSKTXXXXAXIDNVXVXXX-XXXXDXYXKXXWTGXXXSETXXXXXXXXEGXXXXAFDNXXXTIWHSXWXXATXXXXXXXXXXXXXXXXXXXSXXXEXXXXXXYXINQXSFTPRXDXXSGXVTKAXLYXXXXXXXEWXXVAXDQXFXAXXXXKTFXFDXQXVXXXKFVAXXSNDGWVAVSEFXXAXXXXXXXXXXVXXXXXXGGXVSXXXEXXXXXXXX--XXXXVXXGXXVTXXAXXXXGYXFXGWYXXXXXXXVSXXAXYTFXXXGNTALXAKFXKXXXXXXXXXXXXXXXXXXXXXXXXXXXXXXXXLXXXXXXXXXXXXXXXXXXXXXXXXXXXXXXXXXXXXXX-XXXXXXXXXXXXXTXXXXXXXX-XXXXDXXX--XXXXXXXX-------------------XXXXXXXXXXXXXXXXXXXXX---XXXXXXXXXXXXXX-------------------XXXXXXX---XXX-------XXXX-XXXXXXXXXXXXXXXX------XXXXXXX--XXXXXXXXXXXXXXXXXXXXXXXXXXXXXXXX-----------XXXXXX----XXXXXXXXXXXXXXXXXXX--------------XXXXXX--------------------------XXXXXXXXXXX--XXXXXXXXXXXXXXXXXXXXXXX---XXXXXXXXXXXXXXXXXXXXXXXXXXXXXXXXXXXXXXXXXXXXXXXXXXXXXX----------------------------XXXXXXXXXXXKXXXXXXXXXXXXXXXXXXXXXXXXXXXXX-XXXXGXXXXXXXXXXXXXXXXTGXXXXXXXXXXXXXXXXGXXXXXRKXXXX--\n"
          ]
        },
        {
          "output_type": "stream",
          "name": "stderr",
          "text": [
            "/usr/local/lib/python3.11/dist-packages/Bio/Align/AlignInfo.py:159: BiopythonDeprecationWarning: The `gap_consensus` method is deprecated and will be removed in a future release of Biopython. As an alternative, you can convert the multiple sequence alignment object to a new-style Alignment object by via its `.alignment` property, and then create a Motif object. You can then use the `.consensus` or `.degenerate_consensus` property of the Motif object to get a consensus sequence. For more control over how the consensus sequence is calculated, you can call the `calculate_consensus` method on the `.counts` property of the Motif object. This is an example for a multiple sequence alignment `msa` of DNA nucleotides:\n",
            ">>> from Bio.Seq import Seq\n",
            ">>> from Bio.SeqRecord import SeqRecord\n",
            ">>> from Bio.Align import MultipleSeqAlignment\n",
            ">>> from Bio.Align.AlignInfo import SummaryInfo\n",
            ">>> msa = MultipleSeqAlignment([SeqRecord(Seq('ACGT')),\n",
            "...                             SeqRecord(Seq('AT-T')),\n",
            "...                             SeqRecord(Seq('CT-T')),\n",
            "...                             SeqRecord(Seq('GT-T'))])\n",
            ">>> summary = SummaryInfo(msa)\n",
            ">>> gap_consensus = summary.gap_consensus(ambiguous='N')\n",
            ">>> print(gap_consensus)\n",
            "NT-T\n",
            ">>> alignment = msa.alignment\n",
            ">>> from Bio.motifs import Motif\n",
            ">>> motif = Motif('ACGT-', alignment)  # include '-' in alphabet\n",
            ">>> print(motif.consensus)\n",
            "AT-T\n",
            ">>> print(motif.degenerate_consensus)\n",
            "VT-T\n",
            ">>> counts = motif.counts\n",
            ">>> consensus = counts.calculate_consensus(identity=0.7)\n",
            ">>> print(consensus)\n",
            "NT-T\n",
            "\n",
            "If your multiple sequence alignment object was obtained using Bio.AlignIO, then you can obtain a new-style Alignment object directly by using Bio.Align.read instead of Bio.AlignIO.read, or Bio.Align.parse instead of Bio.AlignIO.parse.\n",
            "  warnings.warn(\n"
          ]
        }
      ],
      "source": [
        "open_GH20 = AlignIO.read(\"MSA_GH20.sth\", \"stockholm\")\n",
        "summary_GH20 = AlignInfo.SummaryInfo(open_GH20)\n",
        "\n",
        "consensus_GH33 = summary_GH20.gap_consensus()\n",
        "print(consensus_GH33)"
      ]
    },
    {
      "cell_type": "markdown",
      "metadata": {
        "id": "uaBzOr6QcXEH"
      },
      "source": [
        "Localização das sequências onde o alinhamento é conservado"
      ]
    },
    {
      "cell_type": "code",
      "execution_count": 7,
      "metadata": {
        "colab": {
          "base_uri": "https://localhost:8080/"
        },
        "id": "vOwI_1xkcXEH",
        "outputId": "ac034c0c-d8ba-45a3-f500-66963e2c935c"
      },
      "outputs": [
        {
          "output_type": "stream",
          "name": "stdout",
          "text": [
            "Posições conservadas: 485\n",
            "Porcentagem de pos conservadas: 23.96%\n"
          ]
        }
      ],
      "source": [
        "#iniciar contador de posições conservadas\n",
        "conserved_pos = 0\n",
        "\n",
        "#iterar pelas colunas\n",
        "for i in range(open_GH20.get_alignment_length()):\n",
        "    column = [record[i] for record in open_GH20]\n",
        "    unique_chars = set(column)\n",
        "    if len(unique_chars) == 1:\n",
        "        conserved_pos += 1\n",
        "\n",
        "#poncentagem das sequências conservadas\n",
        "\n",
        "tot_pos = open_GH20.get_alignment_length()\n",
        "percentage = (conserved_pos / tot_pos) * 100\n",
        "\n",
        "print(f\"Posições conservadas: {conserved_pos}\")\n",
        "print(f\"Porcentagem de pos conservadas: {percentage:.2f}%\")"
      ]
    }
  ],
  "metadata": {
    "kernelspec": {
      "display_name": "Python 3",
      "language": "python",
      "name": "python3"
    },
    "language_info": {
      "codemirror_mode": {
        "name": "ipython",
        "version": 3
      },
      "file_extension": ".py",
      "mimetype": "text/x-python",
      "name": "python",
      "nbconvert_exporter": "python",
      "pygments_lexer": "ipython3",
      "version": "3.11.3"
    },
    "colab": {
      "provenance": []
    }
  },
  "nbformat": 4,
  "nbformat_minor": 0
}