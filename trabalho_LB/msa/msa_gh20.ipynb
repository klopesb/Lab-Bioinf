{
  "cells": [
    {
      "cell_type": "markdown",
      "metadata": {
        "id": "omcItcAkcXD6"
      },
      "source": [
        "### Alinhamento Múltiplo - MSA"
      ]
    },
    {
      "cell_type": "markdown",
      "metadata": {
        "id": "GusFZZEScXEA"
      },
      "source": [
        "Ler e verificar o conteúdo do MSA"
      ]
    },
    {
      "cell_type": "code",
      "execution_count": 3,
      "metadata": {
        "id": "ehRmLShXcXEB"
      },
      "outputs": [],
      "source": [
        "from Bio import AlignIO\n",
        "from Bio.Align import AlignInfo"
      ]
    },
    {
      "cell_type": "markdown",
      "metadata": {
        "id": "kG8dMdrfcXEE"
      },
      "source": [
        "Ler arquivo de alinhamento múltiplo retirado do ClustalW"
      ]
    },
    {
      "cell_type": "code",
      "execution_count": 4,
      "metadata": {
        "colab": {
          "base_uri": "https://localhost:8080/"
        },
        "id": "q9lI_GAIcXEE",
        "outputId": "27d669bf-69c6-48a0-84ab-4d133954537f"
      },
      "outputs": [
        {
          "output_type": "stream",
          "name": "stdout",
          "text": [
            "Alignment with 12 rows and 2024 columns\n",
            "MNERGILWSFLAILCRKGKEIKRRMKKKQVVSGLLATVMIANIA...S-- Clostridium_nexile\n",
            "------------------------MKKKQVVSGLLATVMIANIA...S-- Coprococcus_phoceensis\n",
            "------------------------MNKKQGVIGLVATVMIANAA...S-- Catenibacterium_mitsuokai\n",
            "------------------------MNKKQGVIGLVATVMIANAA...S-- Coprobacillus_sp._K06\n",
            "------------------------MNKKQGVIGLVATVMIANAA...S-- Catenibacterium_tridentinum\n",
            "---------------------MKRKKLISI---LLTTVIVANFI...--- Clostridium_tertium\n",
            "---------------------MQLKGIRRALGGIIAAATLLSIG...--- Bifidobacterium_aerophilum\n",
            "---------------------MRTRSLRQALGGIIAAATLLGVG...SAR Bifidobacterium_jacchi\n",
            "---------------------MRLQKLRKAISSIAAAATLLGVG...--- Bifidobacterium_leontopitheci\n",
            "---------------------MRPHRARAALGGLLATATLLGLS...--- Bifidobacterium_samirii\n",
            "---------------------MRLRRVKAAIGSVLAAVTLLSMS...--- Bifidobacterium_bifidum\n",
            "---------------------MRLRRVKAAIGSVLAAVTLLSTS...--- Bifidobacteriaceae_bacterium_MCC01958\n"
          ]
        }
      ],
      "source": [
        "alignment_GH20 = AlignIO.read(\"GH20.aln-fasta\", \"fasta\")\n",
        "print(alignment_GH20)"
      ]
    },
    {
      "cell_type": "markdown",
      "metadata": {
        "id": "SQ7mib_5cXEF"
      },
      "source": [
        "Converter fasta para formato Stockholm"
      ]
    },
    {
      "cell_type": "code",
      "execution_count": 5,
      "metadata": {
        "id": "IJrnXyZTcXEG"
      },
      "outputs": [],
      "source": [
        "convert_GH20 = AlignIO.convert(\"GH20.aln-fasta\", \"fasta\", \"MSA_GH20.sth\", \"stockholm\")"
      ]
    },
    {
      "cell_type": "markdown",
      "metadata": {
        "id": "W4I6vR3scXEG"
      },
      "source": [
        "Encontrar sequência consenso"
      ]
    },
    {
      "cell_type": "code",
      "execution_count": 6,
      "metadata": {
        "colab": {
          "base_uri": "https://localhost:8080/"
        },
        "id": "gHLeUgyXcXEH",
        "outputId": "ecd91103-b939-4fd8-f0da-b4c571fb8277"
      },
      "outputs": [
        {
          "output_type": "stream",
          "name": "stdout",
          "text": [
            "---------------------XXXXXXXXXXXXXXAXXXXXXXXXXXXXXXXAXXXXNLAXXXXVTASSYEVXXX--XXPXKAVDGDXXTRWGTAQNKAXNEWIXXXLXGX-KTVRQINIXFERXDXXQNILXYKVELXXX-GXYXXVYXK---XXXAKQXEXIXLDXXXXAXXVKVTXLXADG--GTXNWXNVGINEIXVYSXXXXXXXXTXXXNHMXXATXTASSXEXXXX-XXXDKXXD-XXXXXXXRWASXYETPXXXIWXXXXFXXXTXXKXXXIXFXXRDVXPXPSNVXSFDXXYXDXXGXEXXXKXXXXXX--XXGXGYXXXXXIXLDXXXXAXXLXLXNFXXX---XXXXNNXSIXEXEXYSNXQXXXXATLDSVVXXXEXXXXTIXXDXXTLXXPXVPXGXTVXXNGADXEQXIXXDGXIXHPLXDKXVXVSYVVTXTXTXXXKXTXDXXYXVKGXXXQXXXXNXKPXXIPEIXEWXSXSXXKXXXXXXXXVXYXDDXLKAVVDEFVXDYXDFTGXXLTXXKGX-XXANAFNFXXXXXX--XXXXXXLGDEGYTMDIXXDRXXXXSXXXTGNMYXMQTILQMXKXDXXXXXIGXMRDYPRFXXRGFLXDVARKPVSLXMXXXXXRTMRYYKMNDFQXHLSDNYIFLEXYGKXXXEXEAFKAYXAFRLESXLXNXKGEXPTAXDYXISKKDFXXFIQXERALGMNXVPEIDVPAHAXSFTKXWPELMVXNKVSXXNXNRPLIDHLDVSKXETXXKIKEIFDDYTKGXXPTFDXXTTVHIGADEFLXXYTAYRXFXNXXVPXXKXTNTVRMWGGLTWIXDXXXTXIXXXAIXNVEMNLWSXDWADGXXMYXMGYKLINTIDXXGYMVPNGXXXRANAYGDLLNVXRXFNXFEXNXVXXXXGXYXYVPXGDDQMLGAAFAXWSDNIDKXASGLXESDLYWRFFDAXPFYAEKTWAATGKEKGXAXXLXXLAXXXGTGPXTNPYYXXXXX-XXXYESYXFXXXX----XDXSXNXRDLXXG-XXXXAXXKDXXLXLXXGXSYXTXPXXXLGNGNXLSFDIXLXXXAKPGDILFEXDAXYGTHDIRXMXDGKLGFTRELYXYXFDYELPVGKXVXXXIXXXQQKTXLYVXGEXVXDAXGKFIXXXXVKKXXITXXTFALPLXRIGSKTXXXXAXIDNVXVXXX-XXXXDXYXKXXWTGXXXSETXXXXXXXXEGXXXXAFDNXXXTIWHSXWXXATXXXXXXXXXXXXXXXXXXXSXXXEXXXXXXYXINQXSFTPRXDXXSGXVTKAXLYXXXXXXXEWXXVAXDQXFXAXXXXKTFXFDXQXVXXXKFVAXXSNDGWVAVSEFXXAXXXXXXXXXXVXXXXXXGGXVSXXXEXXXXXXXX--XXXXVXXGXXVTXXAXXXXGYXFXGWYXXXXXXXVSXXAXYTFXXXGNTALXAKFXKXXXXXXXXXXXXXXXXXXXXXXXXXXXXXXXXLXXXXXXXXXXXXXXXXXXXXXXXXXXXXXXXXXXXXXX-XXXXXXXXXXXXXTXXXXXXXX-XXXXDXXX--XXXXXXXX-------------------XXXXXXXXXXXXXXXXXXXXX---XXXXXXXXXXXXXX-------------------XXXXXXX---XXX-------XXXX-XXXXXXXXXXXXXXXX------XXXXXXX--XXXXXXXXXXXXXXXXXXXXXXXXXXXXXXXX-----------XXXXXX----XXXXXXXXXXXXXXXXXXX--------------XXXXXX--------------------------XXXXXXXXXXX--XXXXXXXXXXXXXXXXXXXXXXX---XXXXXXXXXXXXXXXXXXXXXXXXXXXXXXXXXXXXXXXXXXXXXXXXXXXXXX----------------------------XXXXXXXXXXXKXXXXXXXXXXXXXXXXXXXXXXXXXXXXX-XXXXGXXXXXXXXXXXXXXXXTGXXXXXXXXXXXXXXXXGXXXXXRKXXXX--\n"
          ]
        },
        {
          "output_type": "stream",
          "name": "stderr",
          "text": [
            "/usr/local/lib/python3.11/dist-packages/Bio/Align/AlignInfo.py:159: BiopythonDeprecationWarning: The `gap_consensus` method is deprecated and will be removed in a future release of Biopython. As an alternative, you can convert the multiple sequence alignment object to a new-style Alignment object by via its `.alignment` property, and then create a Motif object. You can then use the `.consensus` or `.degenerate_consensus` property of the Motif object to get a consensus sequence. For more control over how the consensus sequence is calculated, you can call the `calculate_consensus` method on the `.counts` property of the Motif object. This is an example for a multiple sequence alignment `msa` of DNA nucleotides:\n",
            ">>> from Bio.Seq import Seq\n",
            ">>> from Bio.SeqRecord import SeqRecord\n",
            ">>> from Bio.Align import MultipleSeqAlignment\n",
            ">>> from Bio.Align.AlignInfo import SummaryInfo\n",
            ">>> msa = MultipleSeqAlignment([SeqRecord(Seq('ACGT')),\n",
            "...                             SeqRecord(Seq('AT-T')),\n",
            "...                             SeqRecord(Seq('CT-T')),\n",
            "...                             SeqRecord(Seq('GT-T'))])\n",
            ">>> summary = SummaryInfo(msa)\n",
            ">>> gap_consensus = summary.gap_consensus(ambiguous='N')\n",
            ">>> print(gap_consensus)\n",
            "NT-T\n",
            ">>> alignment = msa.alignment\n",
            ">>> from Bio.motifs import Motif\n",
            ">>> motif = Motif('ACGT-', alignment)  # include '-' in alphabet\n",
            ">>> print(motif.consensus)\n",
            "AT-T\n",
            ">>> print(motif.degenerate_consensus)\n",
            "VT-T\n",
            ">>> counts = motif.counts\n",
            ">>> consensus = counts.calculate_consensus(identity=0.7)\n",
            ">>> print(consensus)\n",
            "NT-T\n",
            "\n",
            "If your multiple sequence alignment object was obtained using Bio.AlignIO, then you can obtain a new-style Alignment object directly by using Bio.Align.read instead of Bio.AlignIO.read, or Bio.Align.parse instead of Bio.AlignIO.parse.\n",
            "  warnings.warn(\n"
          ]
        }
      ],
      "source": [
        "open_GH20 = AlignIO.read(\"MSA_GH20.sth\", \"stockholm\")\n",
        "summary_GH20 = AlignInfo.SummaryInfo(open_GH20)\n",
        "\n",
        "consensus_GH33 = summary_GH20.gap_consensus()\n",
        "print(consensus_GH33)"
      ]
    },
    {
      "cell_type": "markdown",
      "metadata": {
        "id": "uaBzOr6QcXEH"
      },
      "source": [
        "Localização das sequências onde o alinhamento é conservado"
      ]
    },
    {
      "cell_type": "code",
      "execution_count": 7,
      "metadata": {
        "colab": {
          "base_uri": "https://localhost:8080/"
        },
        "id": "vOwI_1xkcXEH",
        "outputId": "ac034c0c-d8ba-45a3-f500-66963e2c935c"
      },
      "outputs": [
        {
          "output_type": "stream",
          "name": "stdout",
          "text": [
            "Posições conservadas: 485\n",
            "Porcentagem de pos conservadas: 23.96%\n"
          ]
        }
      ],
      "source": [
        "#iniciar contador de posições conservadas\n",
        "conserved_pos = 0\n",
        "\n",
        "#iterar pelas colunas\n",
        "for i in range(open_GH20.get_alignment_length()):\n",
        "    column = [record[i] for record in open_GH20]\n",
        "    unique_chars = set(column)\n",
        "    if len(unique_chars) == 1:\n",
        "        conserved_pos += 1\n",
        "\n",
        "#poncentagem das sequências conservadas\n",
        "\n",
        "tot_pos = open_GH20.get_alignment_length()\n",
        "percentage = (conserved_pos / tot_pos) * 100\n",
        "\n",
        "print(f\"Posições conservadas: {conserved_pos}\")\n",
        "print(f\"Porcentagem de pos conservadas: {percentage:.2f}%\")"
      ]
    }
  ],
  "metadata": {
    "kernelspec": {
      "display_name": "Python 3",
      "language": "python",
      "name": "python3"
    },
    "language_info": {
      "codemirror_mode": {
        "name": "ipython",
        "version": 3
      },
      "file_extension": ".py",
      "mimetype": "text/x-python",
      "name": "python",
      "nbconvert_exporter": "python",
      "pygments_lexer": "ipython3",
      "version": "3.11.3"
    },
    "colab": {
      "provenance": []
    }
  },
  "nbformat": 4,
  "nbformat_minor": 0
}