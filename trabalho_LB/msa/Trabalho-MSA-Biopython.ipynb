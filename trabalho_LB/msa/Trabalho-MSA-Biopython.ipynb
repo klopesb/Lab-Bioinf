{
 "cells": [
  {
   "cell_type": "markdown",
   "metadata": {},
   "source": [
    "### Alinhamento Múltiplo - MSA"
   ]
  },
  {
   "cell_type": "markdown",
   "metadata": {},
   "source": [
    "Ler e verificar o conteúdo do MSA"
   ]
  },
  {
   "cell_type": "code",
   "execution_count": 15,
   "metadata": {},
   "outputs": [],
   "source": [
    "#importar modulos que preciso\n",
    "from Bio import AlignIO\n",
    "from Bio.Align import AlignInfo"
   ]
  },
  {
   "cell_type": "markdown",
   "metadata": {},
   "source": [
    "Ler arquivo de alinhamento múltiplo retirado do ClustalW "
   ]
  },
  {
   "cell_type": "code",
   "execution_count": 16,
   "metadata": {},
   "outputs": [
    {
     "name": "stdout",
     "output_type": "stream",
     "text": [
      "Alignment with 18 rows and 3628 columns\n",
      "MKKIPIGKLASRAVAAVIAAG--MALTLMPFAASSATAAQTDAS...RHV Bifidobacterium_saguinibicoloris\n",
      "MKKIPIGRIAARALAALISAG--MAVSLIPTASAAEPAATAATQ...--- Bifidobacterium_leontopitheci\n",
      "--------------------------------------------...--- Trueperella_abortisuis\n",
      "-----MMKTYFRALSVLMALPLALTFSVLPIVSPLPDAQAAPSL...--- Varibaculum_timonense\n",
      "--------------------------------------------...--- Arcanobacterium_sp.\n",
      "--------------------------------------------...--- Actinomycetaceae_bacterium\n",
      "--------------------------------------------...--- Actinomyces_faecalis\n",
      "--------------------------------------------...--- Gardnerella_vaginalis\n",
      "--------------------------------------------...--- Boudabousia_marimammalium\n",
      "--------------------------------------------...--- Arcanobacterium_pinnipediorum\n",
      "--------------------------------------------...--- Bifidobacterium_jacchi\n",
      "--------------------------------------------...--- Bifidobacterium_tsurumiense\n",
      "--------------------------------------------...--- Bifidobacterium_bifidum\n",
      "--------------------------------------------...--- Bifidobacteriaceae_bacterium\n",
      "--------------------------------------------...--- Bifidobacterium_samirii\n",
      "--------------------------------------------...R-- Bifidobacterium_aerophilum\n",
      "--------------------------------------------...--- Bifidobacterium_saguini\n",
      "--------------------------------------------...--- Bifidobacterium_imperatoris\n"
     ]
    }
   ],
   "source": [
    "alignment_GH95 = AlignIO.read(\"gh95.aln-fasta\", \"fasta\")\n",
    "print(alignment_GH95)"
   ]
  },
  {
   "cell_type": "markdown",
   "metadata": {},
   "source": [
    "Converter fasta para formato Stockholm "
   ]
  },
  {
   "cell_type": "code",
   "execution_count": 17,
   "metadata": {},
   "outputs": [],
   "source": [
    "convert_GH95 = AlignIO.convert(\"gh95.aln-fasta\", \"fasta\", \"gh95.aln-sth\", \"stockholm\")"
   ]
  },
  {
   "cell_type": "markdown",
   "metadata": {},
   "source": [
    "Encontrar sequência consenso"
   ]
  },
  {
   "cell_type": "code",
   "execution_count": 19,
   "metadata": {},
   "outputs": [
    {
     "name": "stdout",
     "output_type": "stream",
     "text": [
      "----------------------------------------------------------------------------------------------------------------------------------------------------------------------------------------------------------------------------------------------------------------------------------------------------------------------------------------------------------------------------------------------------------------------------------------------------------------------------------------------------------------------------------------------------------------------------------------------------------------------------------------------------------------------------------------------------------------------------------------------------------------------------------------------------------------------------------------------------------------------------------------------------------------------------------------------------------------------------------------------------------------------------------------------------------------------------------------------------------------------------------------------------------X-----XXXXXXXXXXXXXXXX----X-----XXXXXXXX------------------XXXXXXXXX---XXXXXXXXXXXXXXXXXXXXXXXXXXXXXXXXX---XXXXXXXXXXXXXXXXXXXXXXXXXX-------XXXXXX---XXXXXXXXXXXXXXXXXXXXXXXXXXXXXXXXXXXXXXXXXXXXXX-XX--------XXXXXXXXXXXXXXXXXXXXX--XXXXXXXXXXXX----XX--XXXXXXX---XXXXXXXXXXXXX-XX-XXXXXXXXXXXXXXXXXXXXXXXXXXXXXXXXXXXXX-----------------------------XXXXXXXXXXXXXXADTTLQXWXXEKXXXXXXXXYXGALXPX--------GXXGXFGEXFXSTDXXDXTDAKMGLXXFDLSXXX-XAPXXAXLXLTYXGXXGXXX-XAXXTXXXXXXAVDXXXCTXXXXXCXXXXATWAXRPXFXXXXXXXXXAXSXXFXXGXXXYXXDXMXXXXXXXXXVXXDVTXIXXXXFX-----XGXXXXTXAXGEXXXXDXRFXSXEXXXXXLXGAXXXMXPXXXVTXXXXXXX------LXXXXXXXKXXYXXGEXFXXXGXXVXXXXT-------------------------------------------------------------------------------------------------XXGXXXXLX----XXXYXXXXXXFDXXXXGXXXITVXXXX-XPXXXXXFXVYVXXXXXXX---XXXDXSXDDXLWYXQPASXTXXXXXXGXX----XX-XXXXXXXXWQQTTLPIGNGXXGGTVWGEXXXERXTFNEETLWTGGPGSXXXYNGGNXXXKGXXGATLRXLNXQLXX-GAXT-VNPXXLTGGXXAXXQGXYQNWGXIXIDYGFX-----XXXXXXXYXRDLNLSXGXAXVXFXXDGVXYTREYFXSNPDNVMVXRLXASXXXXLNLXXXXPTNXGXSKXGEXTXVXGDTLTVXGALGNNGLXYXXXIKAVXDXGXXTXXXXXDGXSLXXXXAXXVTLYIAAATDYKXXYPXYRTGEXAXXXXXRVAXXVXXAANKGYXXVKXXHXXDHXXXYXRVXLDLGQXXX-XXXGXXXTDXLLXXYXXG--XATXAQXRELETLVYXYGRYLTIGSSRENSQLPSNLQGIWSXTAXDNA-HXGXTPWGSDFHMNVNLQMNYWPTYSXNXXELAXPLIXYXXGLVXPGRVTAXXYAGAXTXXX--XXTXIGEGXGXMAHTENTAYGWTXPGXXFSWGWSPAAXPWXLQNVYEAYEYXGDXXXLXXXXYXLLKEESXFYVXYMLHKXXXXXXXX--XXRLTTGVAYSPEHGPXGTDGNTYESSLVWQXLNDAIEXAXXLGXDXXLVGXXX--XCSXDNWAKDDXGXFXXXXANRSWXCAXSLLKPIEVGXSGQIKEWYFEGXLGKXXDGXXIXXYXX--XHRHMSHXLGLFPGDLITXDNXXYMDAAKXSXXXRG------DDATGWGVGQRINSWARTGDGNXAYXLXXXQLXXAMYXNLFDXHPPFQIDGNFGNTSGVNEMLXQSNSTFXXXDGXXYXNYXNILPALPXAWAX-GSVXGLVARGNFXVXXXWXXGXXXXVXLXSXXGXXAAXKXTXXXXXXXXXXXX--------------XXXXVXXXXVXNXXGXXXXXFX-TXXGXXYXXXXXXXXXXXXX------XX--XXXXXXXXXXXXXXX----XXXXXXXX----XXXXXXXXXXXXXXXXXXXXXXXXX----XXXXXX---------XXXXXXXXXXXXXXXX----XXXXXXXXXXXX--------XXXXXXXXXXXXXXXXXXXXXX----XXXXXXXXXPXXXXX-XXXXXXXXXXXXX--XXXXXXXXXXXXXXXXXXXXXXXXXXXXX--XX-XXXXXXXXXXXXXXXXXXX--XXXXXXXXXXXXXXXXXXXX--------X---XXXXXX-----XXXXXXX-XXXXXXXXXXX-------XXXXXXXXXXXXXXXXXXXXX-XXXXXXXXXXX---------------X---XXXXX---------------XXXX---------------XXXX--------XXXX-----------XXXXXXX-----------------------XXXXXX-XXX------XX--------------XXXXXXXXXXXXXXXXXXXXXXX---XXXXXXXXXXXXXX-------XXXXXXX-------------XXXXXXXXXXXX----------------------------------------------------------------XX-----------------XXXXXXX--XXXXXXXXXXX-------------------------------XX-------------XXX--------XXXXXXXXXXXXXXXXXXXXXXXXXXXXXXXXXXXXXXXXXXXXXXX------------\n"
     ]
    }
   ],
   "source": [
    "open_GH95 = AlignIO.read(\"gh95.aln-sth\", \"stockholm\")\n",
    "summary_GH95 = AlignInfo.SummaryInfo(open_GH95)\n",
    "\n",
    "consensus_GH95 = summary_GH95.gap_consensus()\n",
    "print(consensus_GH95)"
   ]
  },
  {
   "cell_type": "markdown",
   "metadata": {},
   "source": [
    "Localização das sequências onde o alinhamento é conservado "
   ]
  },
  {
   "cell_type": "code",
   "execution_count": 20,
   "metadata": {},
   "outputs": [
    {
     "name": "stdout",
     "output_type": "stream",
     "text": [
      "Posições conservadas: 328\n",
      "Porcentagem de pos conservadas: 9.04%\n"
     ]
    }
   ],
   "source": [
    "#iniciar contador de posições conservadas \n",
    "conserved_pos = 0\n",
    "\n",
    "#iterar pelas colunas\n",
    "for i in range(open_GH95.get_alignment_length()):\n",
    "    column = [record[i] for record in open_GH95]\n",
    "    unique_chars = set(column)\n",
    "    if len(unique_chars) == 1:\n",
    "        conserved_pos += 1\n",
    "\n",
    "#poncentagem das sequências conservadas \n",
    "\n",
    "tot_pos = open_GH95.get_alignment_length()\n",
    "percentage = (conserved_pos / tot_pos) * 100\n",
    "\n",
    "print(f\"Posições conservadas: {conserved_pos}\")\n",
    "print(f\"Porcentagem de pos conservadas: {percentage:.2f}%\")"
   ]
  }
 ],
 "metadata": {
  "kernelspec": {
   "display_name": "Python 3",
   "language": "python",
   "name": "python3"
  },
  "language_info": {
   "codemirror_mode": {
    "name": "ipython",
    "version": 3
   },
   "file_extension": ".py",
   "mimetype": "text/x-python",
   "name": "python",
   "nbconvert_exporter": "python",
   "pygments_lexer": "ipython3",
   "version": "3.12.6"
  }
 },
 "nbformat": 4,
 "nbformat_minor": 2
}
