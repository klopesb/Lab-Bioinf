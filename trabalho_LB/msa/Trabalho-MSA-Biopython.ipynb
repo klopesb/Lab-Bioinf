{
 "cells": [
  {
   "cell_type": "markdown",
   "metadata": {},
   "source": [
    "### Alinhamento Múltiplo - MSA"
   ]
  },
  {
   "cell_type": "markdown",
   "metadata": {},
   "source": [
    "Ler e verificar o conteúdo do MSA"
   ]
  },
  {
   "cell_type": "code",
   "execution_count": 13,
   "metadata": {},
   "outputs": [],
   "source": [
    "#importar modulos que preciso\n",
    "from Bio import AlignIO\n",
    "from Bio.Align import AlignInfo"
   ]
  },
  {
   "cell_type": "markdown",
   "metadata": {},
   "source": [
    "Ler arquivo de alinhamento múltiplo retirado do ClustalW "
   ]
  },
  {
   "cell_type": "code",
   "execution_count": 14,
   "metadata": {},
   "outputs": [
    {
     "name": "stdout",
     "output_type": "stream",
     "text": [
      "Alignment with 20 rows and 1959 columns\n",
      "MKHRAMSSRLMPLVASCATIGMLLAGLPASAVAVGTTRAAASDA...RSA glycoside-hydrolase-N-terminal-d-c-p_1\n",
      "MKHRAMSSRLMPLVASCATVGMLLAGLPVSAVAVGTTRAAASDA...HSA glycoside-hydrolase-N-terminal-d-c-p_2\n",
      "-----MSSRLMPLVASCATVGMLLAGLPVSAVAVGTTRAAASDA...HSA glycoside-hydrolase-N-terminal-d-c-p_3\n",
      "MKHRAMSSRLMPLVASCATVGMLLAGLPASAVAVGTTRAAASDA...HSA glycoside-hydrolase-N-terminal-d-c-p_4\n",
      "MKHRAMSSRLMPLVASCATVGMLLAGLPVSAVAVGTTRAAASDA...RSA hypothetical-protein_5\n",
      "MKHRAMSSRLMPLVASCATVGMLLAGLPASAVAVGTTRAAASDA...RSA glycoside-hydrolase-N-terminal-d-c-p_6\n",
      "MKHRAMSSRLMPLVASCATVGMLLAGLPASAVAVSTTRAAASDA...HSA glycoside-hydrolase-N-terminal-d-c-p_7\n",
      "MKHRAMSSRLMPLVASCATVGMLLAGLPVSAVAVGTTRAAASDA...RSA glycoside-hydrolase-N-terminal-d-c-p_8\n",
      "MEHLAMSSRLMPLVASCATVGMLLAGLPASAVAVGTTRAAASDA...RSA glycoside-hydrolase-N-terminal-d-c-p_9\n",
      "MKHRAMSSRLMPLVASCATVGMLLAGLPASAVAVGTTRAAASDA...RSA glycoside-hydrolase-N-terminal-d-c-p_10\n",
      "MKHRAMSSRLMPLVASCATVGMLLAGLPASAVAVGTTRAAASDA...RSA glycoside-hydrolase-N-terminal-d-c-p_11\n",
      "MKHRAMSSRLMPLVASCATVGMLLAGLPASAVAVGTTRAAASDA...RSA glycoside-hydrolase-N-terminal-d-c-p_12\n",
      "MKHRAMSSRLMPLVASCATVGMLLAGLPASAVAVGTTRAAASDA...RSA glycoside-hydrolase-N-terminal-d-c-p_13\n",
      "MKHRAMSSRLMPLVASCATVGMLLAGLPASAVAVGTTRAAASDA...RSA glycoside-hydrolase-N-terminal-d-c-p_14\n",
      "MKHRAMSSRLMPLVASCATVGMLLAGLPVSAVAVGTTRAAASDA...HSA glycoside-hydrolase-N-terminal-d-c-p_15\n",
      "MKHRAMSSRLMPLVASCATVGMLLAGLPASAVAVGTTRAAASDA...HSA glycoside-hydrolase-N-terminal-d-c-p_16\n",
      "MKHRAMSSRLMPLVASCATVGMLLAGLPASAVAVGTTRAAASDA...HSA glycoside-hydrolase-N-terminal-d-c-p_17\n",
      "MKHRAMSSRLMPLVASCATVGMLLAGLPASAVAVGTTRAAASDA...HSA glycoside-hydrolase-N-terminal-d-c-p_18\n",
      "MKHRAMSSRLMPLVASCATVGMLLAGLPVSAVAVGTTRAAASDA...HSA glycoside-hydrolase-N-terminal-d-c-p_19\n",
      "MKHRAMSSRLMPLVASCATVGMLLAGLPVSAVAVGTTRAAASDA...HSA glycoside-hydrolase-N-terminal-d-c-p_20\n"
     ]
    }
   ],
   "source": [
    "alignment_GH95 = AlignIO.read(\"MSA_GH95\", \"fasta\")\n",
    "print(alignment_GH95)"
   ]
  },
  {
   "cell_type": "markdown",
   "metadata": {},
   "source": [
    "Converter fasta para formato Stockholm "
   ]
  },
  {
   "cell_type": "code",
   "execution_count": 15,
   "metadata": {},
   "outputs": [],
   "source": [
    "convert_GH95 = AlignIO.convert(\"MSA_GH95\", \"fasta\", \"MSA_GH95.sth\", \"stockholm\")"
   ]
  },
  {
   "cell_type": "markdown",
   "metadata": {},
   "source": [
    "Encontrar sequência consenso"
   ]
  },
  {
   "cell_type": "code",
   "execution_count": 11,
   "metadata": {},
   "outputs": [
    {
     "name": "stdout",
     "output_type": "stream",
     "text": [
      "MKHRAMSSRLMPLVASCATVGMLLAGLPXSAVAVGTTRAAASDASSSTTATITPSADTTLQTWTSEKNSSMASKPYIGTLQGPSQGVFGEKFESTDAADTTDLKTGLLTFDLSAYDHAPDSATFEMTYLGYRGNPTATDTDTIKVTPVDTTVCTNNATDCGANVATGATKPKFSINDSSFVAESKPFEYGTTVYXGDAITVVPANTKKVTVDVTEIVRQQFAEGKKVITLAVGETKKTEVRFASSEGTTSLNGATADMAPKLTVSVSTKDDLKPSADTTLQAWASEKNEKKNTAAYVGALQPEGDYGDFGEKFKSTDVHDVTDAKMGLMTFDLSDYTAAPEHSILTLTYLGYAGADKTATATDKVKVVAVDTSRCTGTAPCDTNNATWANRPDFEVTDTTKTATSHAFAYGSKKYSDGMTVESGNAKKVLLDVTDXIKAEFAKFSAGATEKKITLALGELNKSDMRFGSKEVTSLTGATEAMQPTLSVTKKPKAYTLSIEGPTKVKYQKGEAFDKAGLVVKATSTADGTVKTLTEGNGEDNYTIDTSAFDSASIGVYPITVKYNKDPEIAASFNAYVIASVEDGGDGDTSKDDWLWYKQPASQTDATATAGGNYGNPDNNRWQQTTLPFGNGKIGGTVWGEVSRERVTFNEETLWTGGPGSSTSYNGGNNETKGQNGATLRALNKQLANGAETVNPGNLTGGENAAEQGNYLNWGDIYLDYGFNDTTVTEYRRDLNLSKGKADVTFKHDGVTYTREYFASNPDNVMVARLTASKAGKLNFNVSMPTNTNYSKTGETTTVKGDTLTVKGALGNNGLLYNSQIKVVLDNGEGTLSEGXDGASLKVSDAKAVTLYIAAATDYKQKYPSYRTGETAAEVNTRVAKVVQDAANKGYTAVKKAHIADHSAIYDRVKIDLGQSGHSSDGAVATDALLKAYQRGSATTAQKRELETLVYKYGRYLTIGSSRENSQLPSNLQGIWSVTAGDNAHGNTPWGSDFHMNVNLQMNYWPTYSANMGELAEPLIEYVEGLVKPGRVTAKVYAGAETTNPETTPIGEGEGYMAHTENTAYGWTAPGQSFSWGWSPAAVPWILQNVYEAYEYSGDPALLXRVYALLKEESHFYVNYMLHKAGSSSGDRLTTGVAYSPEQGPLGTDGNTYESSLVWQMLNDAIEAAKAKGDPDGLVGXTTDCSAXNWAKGDNGNFTDANANRSWSCAKSLLKPIEVGDSGQIKEWYFEGALGKKKDGSAISGYQADNQHRHMSHLLGLFPGDLITIDNSEYMXAAKTSLRYRCFKGNVLQSNTGWAIGQRINSWARTGDGNTTYQLVELQLKNAMYANLFDYHAPFQIDGNFGNTSGVDEMLLQSNSTFTDTXGKKYVNYTNILPALPDAWAXGSVSGLVARGNFTVGTTWKNGKATEVKLTSNKGKQAAVKITAGGAQNYEVKNGDTAVNAKVVTNADGASLLVFDTTAGTTYTITKKASANVPVTGVTVTGANTATAGDTVTLTATVAPANATDKSVTWSTSDAAVATVNANGVVTTKKAGKVTITATSNGDKTKFGSIEITVSAATVPVTSVTVAGDAAMTVDGEQTLTATVAPAXATDKTVTWKSSDATVATVDANGKVVAKKAGEVTITATAGGVSGTLKITVSDKAPTVIPVQSVTVTGKQELVEGASTTLTATVAPADATDKTVTWKSSDESVATVDKDGVVTAKKAGTVTITATAGGVSGTLHITVTAKPVETVPVTSVEVTVEAGTTVSVGKTLQATATVKPGNATNKKVTWKSSDESIATVDANGVITAKKAGKVVITATSTDGTDKSGSVEITVVDETKPTPDHKSVKADTGDVTAGKTGTVTEPKDVAGWKSRSIIKQGKLGKAEIADGTLVYAAGDKTGDDSFVVQYTMADGTVIDVTYSVTVKAAETGKNDGDGKGDGVAKTGAAVGALAGLGLMLLAVGVSVVMIRRKXSA\n"
     ]
    }
   ],
   "source": [
    "open_GH95 = AlignIO.read(\"MSA_GH95.sth\", \"stockholm\")\n",
    "summary_GH95 = AlignInfo.SummaryInfo(open_GH95)\n",
    "\n",
    "consensus_GH95 = summary_GH95.gap_consensus()\n",
    "print(consensus_GH95)"
   ]
  },
  {
   "cell_type": "markdown",
   "metadata": {},
   "source": [
    "Localização das sequências onde o alinhamento é conservado "
   ]
  },
  {
   "cell_type": "code",
   "execution_count": 12,
   "metadata": {},
   "outputs": [
    {
     "name": "stdout",
     "output_type": "stream",
     "text": [
      "Posições conservadas: 1893\n",
      "Porcentagem de pos conservadas: 96.63%\n"
     ]
    }
   ],
   "source": [
    "#iniciar contador de posições conservadas \n",
    "conserved_pos = 0\n",
    "\n",
    "#iterar pelas colunas\n",
    "for i in range(open_GH95.get_alignment_length()):\n",
    "    column = [record[i] for record in open_GH95]\n",
    "    unique_chars = set(column)\n",
    "    if len(unique_chars) == 1:\n",
    "        conserved_pos += 1\n",
    "\n",
    "#poncentagem das sequências conservadas \n",
    "\n",
    "tot_pos = open_GH95.get_alignment_length()\n",
    "percentage = (conserved_pos / tot_pos) * 100\n",
    "\n",
    "print(f\"Posições conservadas: {conserved_pos}\")\n",
    "print(f\"Porcentagem de pos conservadas: {percentage:.2f}%\")"
   ]
  }
 ],
 "metadata": {
  "kernelspec": {
   "display_name": "Python 3",
   "language": "python",
   "name": "python3"
  },
  "language_info": {
   "codemirror_mode": {
    "name": "ipython",
    "version": 3
   },
   "file_extension": ".py",
   "mimetype": "text/x-python",
   "name": "python",
   "nbconvert_exporter": "python",
   "pygments_lexer": "ipython3",
   "version": "3.12.6"
  }
 },
 "nbformat": 4,
 "nbformat_minor": 2
}
