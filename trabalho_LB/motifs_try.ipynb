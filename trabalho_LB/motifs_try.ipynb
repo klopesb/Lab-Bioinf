{
 "cells": [
  {
   "cell_type": "code",
   "execution_count": 2,
   "metadata": {},
   "outputs": [
    {
     "name": "stdout",
     "output_type": "stream",
     "text": [
      "Discovered Motifs:\n",
      "1. Motif: MSKRRKHSWPQPLKGAESRLWYGGDYNPDQWPEEVWDDDIRLMKKAGVNL | Count: 20\n",
      "2. Motif: SKRRKHSWPQPLKGAESRLWYGGDYNPDQWPEEVWDDDIRLMKKAGVNLV | Count: 20\n",
      "3. Motif: KRRKHSWPQPLKGAESRLWYGGDYNPDQWPEEVWDDDIRLMKKAGVNLVS | Count: 20\n",
      "4. Motif: RRKHSWPQPLKGAESRLWYGGDYNPDQWPEEVWDDDIRLMKKAGVNLVSV | Count: 20\n",
      "5. Motif: RKHSWPQPLKGAESRLWYGGDYNPDQWPEEVWDDDIRLMKKAGVNLVSVG | Count: 20\n",
      "6. Motif: KHSWPQPLKGAESRLWYGGDYNPDQWPEEVWDDDIRLMKKAGVNLVSVGI | Count: 20\n",
      "7. Motif: HSWPQPLKGAESRLWYGGDYNPDQWPEEVWDDDIRLMKKAGVNLVSVGIF | Count: 20\n",
      "8. Motif: SWPQPLKGAESRLWYGGDYNPDQWPEEVWDDDIRLMKKAGVNLVSVGIFS | Count: 20\n",
      "9. Motif: WPQPLKGAESRLWYGGDYNPDQWPEEVWDDDIRLMKKAGVNLVSVGIFSW | Count: 20\n",
      "10. Motif: PQPLKGAESRLWYGGDYNPDQWPEEVWDDDIRLMKKAGVNLVSVGIFSWA | Count: 20\n"
     ]
    }
   ],
   "source": [
    "from Bio import SeqIO\n",
    "from Bio.motifs import Motif\n",
    "from Bio.Seq import Seq\n",
    "from Bio.Align import Alignment\n",
    "import itertools\n",
    "\n",
    "def discover_motifs(fasta_file, motif_length=6, max_motifs=5):\n",
    "    \"\"\"\n",
    "    Discover motifs of a fixed length from protein sequences in a FASTA file.\n",
    "\n",
    "    Args:\n",
    "        fasta_file (str): Path to the FASTA file with protein sequences.\n",
    "        motif_length (int): Length of motifs to search for.\n",
    "        max_motifs (int): Maximum number of motifs to return.\n",
    "\n",
    "    Returns:\n",
    "        list: A list of discovered motifs.\n",
    "    \"\"\"\n",
    "    # Parse the sequences from the FASTA file\n",
    "    sequences = [str(record.seq) for record in SeqIO.parse(fasta_file, \"fasta\")]\n",
    "    \n",
    "    # Generate all possible k-mers (motifs) of the specified length\n",
    "    kmer_counts = {}\n",
    "    for seq in sequences:\n",
    "        for i in range(len(seq) - motif_length + 1):\n",
    "            kmer = seq[i:i + motif_length]\n",
    "            kmer_counts[kmer] = kmer_counts.get(kmer, 0) + 1\n",
    "\n",
    "    # Sort motifs by frequency\n",
    "    sorted_kmers = sorted(kmer_counts.items(), key=lambda x: x[1], reverse=True)\n",
    "\n",
    "    # Create Motif objects for the top motifs\n",
    "    discovered_motifs = []\n",
    "    for kmer, count in sorted_kmers[:max_motifs]:\n",
    "        alignment = Alignment([Seq(kmer)])\n",
    "        motif = Motif(alignment)\n",
    "        discovered_motifs.append((kmer, count, motif))\n",
    "    \n",
    "    return discovered_motifs\n",
    "\n",
    "\n",
    "# Main script\n",
    "fasta_file = \"MSA_GH42.fasta\"  # Path to your FASTA file\n",
    "motif_length = 50  # Length of motifs to discover\n",
    "max_motifs = 10  # Maximum number of motifs to display\n",
    "\n",
    "# Discover motifs\n",
    "motifs = discover_motifs(fasta_file, motif_length, max_motifs)\n",
    "\n",
    "# Display the discovered motifs\n",
    "print(\"Discovered Motifs:\")\n",
    "for i, (kmer, count, motif) in enumerate(motifs, 1):\n",
    "    print(f\"{i}. Motif: {kmer} | Count: {count}\")\n"
   ]
  }
 ],
 "metadata": {
  "kernelspec": {
   "display_name": ".venv",
   "language": "python",
   "name": "python3"
  },
  "language_info": {
   "codemirror_mode": {
    "name": "ipython",
    "version": 3
   },
   "file_extension": ".py",
   "mimetype": "text/x-python",
   "name": "python",
   "nbconvert_exporter": "python",
   "pygments_lexer": "ipython3",
   "version": "3.12.6"
  }
 },
 "nbformat": 4,
 "nbformat_minor": 2
}
