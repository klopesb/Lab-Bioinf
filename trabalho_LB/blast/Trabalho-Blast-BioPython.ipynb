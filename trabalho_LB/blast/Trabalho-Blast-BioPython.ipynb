{
 "cells": [
  {
   "cell_type": "markdown",
   "metadata": {},
   "source": [
    "## Blast \n",
    "### Bifidobacterium bifidum \n",
    "### Genes: GH20 (BbhI), GH42 (BbgII), GH95 (AfcA), GH33 (SIABB2)\n"
   ]
  },
  {
   "cell_type": "code",
   "execution_count": 1,
   "metadata": {},
   "outputs": [],
   "source": [
    "from Bio.Blast import NCBIXML \n",
    "from Bio.Blast import NCBIWWW \n",
    "from Bio import SeqIO"
   ]
  },
  {
   "cell_type": "markdown",
   "metadata": {},
   "source": [
    "Leitura das sequências dos ficheiros em formato FASTA"
   ]
  },
  {
   "cell_type": "code",
   "execution_count": null,
   "metadata": {},
   "outputs": [],
   "source": [
    "record_gh20 =  SeqIO.read(open(\"Add your file here.fasta\"), format=\"fasta\")    #Gene GH20"
   ]
  },
  {
   "cell_type": "code",
   "execution_count": null,
   "metadata": {},
   "outputs": [],
   "source": [
    "record_gh42 =  SeqIO.read(open(\"Add your file here.fasta\"), format=\"fasta\")    #Gene GH42"
   ]
  },
  {
   "cell_type": "code",
   "execution_count": 2,
   "metadata": {},
   "outputs": [],
   "source": [
    "record_gh95 = SeqIO.read(open(\"GH95.fasta\"), format=\"fasta\")    #Gene GH95"
   ]
  },
  {
   "cell_type": "code",
   "execution_count": null,
   "metadata": {},
   "outputs": [],
   "source": [
    "record_gh33 =  SeqIO.read(open(\"Add your file here.fasta\"), format=\"fasta\")    #Gene GH33"
   ]
  },
  {
   "cell_type": "markdown",
   "metadata": {},
   "source": [
    "Executar pesquisa no Blast "
   ]
  },
  {
   "cell_type": "code",
   "execution_count": null,
   "metadata": {},
   "outputs": [],
   "source": [
    "result_handle_gh20 = NCBIWWW.qblast(\"blastp\", \"nr\", record_gh20.format(\"fasta\"))"
   ]
  },
  {
   "cell_type": "code",
   "execution_count": null,
   "metadata": {},
   "outputs": [],
   "source": [
    "result_handle_gh42 = NCBIWWW.qblast(\"blastp\", \"nr\", record_gh42.format(\"fasta\"))"
   ]
  },
  {
   "cell_type": "code",
   "execution_count": 3,
   "metadata": {},
   "outputs": [],
   "source": [
    "result_handle_gh95 = NCBIWWW.qblast(\"blastp\", \"nr\", record_gh95.format(\"fasta\"))"
   ]
  },
  {
   "cell_type": "code",
   "execution_count": null,
   "metadata": {},
   "outputs": [],
   "source": [
    "result_handle_gh33 = NCBIWWW.qblast(\"blastp\", \"nr\", record_gh33.format(\"fasta\"))"
   ]
  },
  {
   "cell_type": "markdown",
   "metadata": {},
   "source": [
    "Salvar arquivos em formato XML "
   ]
  },
  {
   "cell_type": "code",
   "execution_count": null,
   "metadata": {},
   "outputs": [],
   "source": [
    "#Salvar arquivos  \n",
    "save_file_gh20 = open(\"blast_gh20.xml\", \"w\")\n",
    "save_file_gh20.write(result_handle_gh95.read()) \n",
    "\n",
    "#Fechar arquivos \n",
    "save_file_gh20.close() \n",
    "result_handle_gh20.close()"
   ]
  },
  {
   "cell_type": "code",
   "execution_count": null,
   "metadata": {},
   "outputs": [],
   "source": [
    "\n",
    "save_file_gh42 = open(\"blast_gh42.xml\", \"w\")\n",
    "save_file_gh42.write(result_handle_gh95.read()) \n",
    "\n",
    "\n",
    "save_file_gh42.close() \n",
    "result_handle_gh42.close()"
   ]
  },
  {
   "cell_type": "code",
   "execution_count": null,
   "metadata": {},
   "outputs": [],
   "source": [
    "save_file_gh95 = open(\"blast_gh95.xml\", \"w\")\n",
    "save_file_gh95.write(result_handle_gh95.read()) \n",
    "save_file_gh95.close() \n",
    "result_handle_gh95.close()"
   ]
  },
  {
   "cell_type": "code",
   "execution_count": null,
   "metadata": {},
   "outputs": [],
   "source": [
    "save_file_gh33 = open(\"blast_gh33.xml\", \"w\")\n",
    "save_file_gh33.write(result_handle_gh95.read()) \n",
    "\n",
    "save_file_gh33.close() \n",
    "result_handle_gh33.close()"
   ]
  },
  {
   "cell_type": "markdown",
   "metadata": {},
   "source": [
    "Para abrir arquivos gravados "
   ]
  },
  {
   "cell_type": "code",
   "execution_count": null,
   "metadata": {},
   "outputs": [],
   "source": [
    "result_handle_gh42 = open(\"blast_gh20.xml\")"
   ]
  },
  {
   "cell_type": "code",
   "execution_count": null,
   "metadata": {},
   "outputs": [],
   "source": [
    "result_handle_gh42 = open(\"blast_gh42.xml\")"
   ]
  },
  {
   "cell_type": "code",
   "execution_count": 4,
   "metadata": {},
   "outputs": [],
   "source": [
    "result_handle_gh95 = open(\"blast_gh95.xml\")"
   ]
  },
  {
   "cell_type": "code",
   "execution_count": null,
   "metadata": {},
   "outputs": [],
   "source": [
    "result_handle_gh33 = open(\"blast_gh33.xml\")"
   ]
  },
  {
   "cell_type": "markdown",
   "metadata": {},
   "source": [
    "Explorando o Blast record"
   ]
  },
  {
   "cell_type": "code",
   "execution_count": null,
   "metadata": {},
   "outputs": [],
   "source": [
    "from Bio import AlignIO\n",
    "alignment = AlignIO.read(\"GH95.fasta\", \"fasta\")\n",
    "print (alignment )\n",
    "print (\"tam. alinhamento %i\" % alignment.get_alignment_length() )"
   ]
  },
  {
   "cell_type": "code",
   "execution_count": null,
   "metadata": {},
   "outputs": [],
   "source": [
    "e_value_threshold = 0.05\n",
    "blast_record = NCBIXML.read(result_handle_gh20)\n",
    "\n",
    "for alignment in blast_record.alignments:\n",
    "    for hsp in alignment.hsps:\n",
    "        if hsp.expect < e_value_threshold:\n",
    "            print('****Alignment****')\n",
    "            print(f\"sequence: {alignment.title}\")\n",
    "            print(f\"length: {alignment.length}\")\n",
    "            print(f\"e value: {hsp.expect}\")\n",
    "            print(hsp.query[0:75] + '...')\n",
    "            print(hsp.match[0:75] + '...')\n",
    "            print(hsp.sbjct[0:75] + '...')"
   ]
  },
  {
   "cell_type": "code",
   "execution_count": null,
   "metadata": {},
   "outputs": [],
   "source": [
    "e_value_threshold = 0.05\n",
    "blast_record = NCBIXML.read(result_handle_gh42)\n",
    "\n",
    "for alignment in blast_record.alignments:\n",
    "    for hsp in alignment.hsps:\n",
    "        if hsp.expect < e_value_threshold:\n",
    "            print('****Alignment****')\n",
    "            print(f\"sequence: {alignment.title}\")\n",
    "            print(f\"length: {alignment.length}\")\n",
    "            print(f\"e value: {hsp.expect}\")\n",
    "            print(hsp.query[0:75] + '...')\n",
    "            print(hsp.match[0:75] + '...')\n",
    "            print(hsp.sbjct[0:75] + '...')"
   ]
  },
  {
   "cell_type": "code",
   "execution_count": null,
   "metadata": {},
   "outputs": [],
   "source": [
    "e_value_threshold = 0.05\n",
    "blast_record = NCBIXML.read(result_handle_gh95)\n",
    "\n",
    "for alignment in blast_record.alignments:\n",
    "    for hsp in alignment.hsps:\n",
    "        if hsp.expect < e_value_threshold:\n",
    "            print('****Alignment****')\n",
    "            print(f\"sequence: {alignment.title}\")\n",
    "            print(f\"length: {alignment.length}\")\n",
    "            print(f\"e value: {hsp.expect}\")\n",
    "            print(hsp.query[0:75] + '...')\n",
    "            print(hsp.match[0:75] + '...')\n",
    "            print(hsp.sbjct[0:75] + '...')"
   ]
  },
  {
   "cell_type": "code",
   "execution_count": null,
   "metadata": {},
   "outputs": [],
   "source": [
    "e_value_threshold = 0.05\n",
    "blast_record = NCBIXML.read(result_handle_gh33)\n",
    "\n",
    "for alignment in blast_record.alignments:\n",
    "    for hsp in alignment.hsps:\n",
    "        if hsp.expect < e_value_threshold:\n",
    "            print('****Alignment****')\n",
    "            print(f\"sequence: {alignment.title}\")\n",
    "            print(f\"length: {alignment.length}\")\n",
    "            print(f\"e value: {hsp.expect}\")\n",
    "            print(hsp.query[0:75] + '...')\n",
    "            print(hsp.match[0:75] + '...')\n",
    "            print(hsp.sbjct[0:75] + '...')"
   ]
  },
  {
   "cell_type": "markdown",
   "metadata": {},
   "source": [
    "## Captar 20 melhores sequencias \n"
   ]
  },
  {
   "cell_type": "code",
   "execution_count": 16,
   "metadata": {},
   "outputs": [],
   "source": [
    "#Exemplo \n",
    "\n",
    "from Bio import SearchIO, SeqIO\n",
    "from Bio.Seq import Seq\n",
    "from Bio.SeqRecord import SeqRecord\n",
    "\n",
    "# Parsear o arquivo BLAST XML\n",
    "blast_xml = \"blast_gh95.xml\"\n",
    "blast_results = SearchIO.parse(blast_xml, \"blast-xml\")\n",
    "\n",
    "max_hits = 20\n",
    "\n",
    "# Extrair as sequências dos hits\n",
    "seq_records_GH95 = []\n",
    "for qresult in blast_results:\n",
    "    #ordenar os hits pelo e-value \n",
    "    sorted_hits = sorted(qresult.hits, key=lambda hit: hit.hsps[0].evalue)\n",
    "\n",
    "    #selecionar os melhores hits ate o limite definido (20)\n",
    "    for hit in sorted_hits[:max_hits]:\n",
    "        # Adicionar apenas as sequências de hits relevantes (por exemplo, os 5 melhores hits)\n",
    "        seq_id = hit.id\n",
    "        seq_description = hit.description\n",
    "        #extrair seq do alinhamento caso exista \n",
    "        seq = Seq(hit.hsps[0].hit.seq) # Primeira HSP da sequência\n",
    "        seq_record = SeqRecord(seq, id=seq_id, description = seq_description)\n",
    "        seq_records_GH95.append(seq_record)\n"
   ]
  },
  {
   "cell_type": "code",
   "execution_count": 17,
   "metadata": {},
   "outputs": [
    {
     "data": {
      "text/plain": [
       "20"
      ]
     },
     "execution_count": 17,
     "metadata": {},
     "output_type": "execute_result"
    }
   ],
   "source": [
    "# Salvar as sequências em um arquivo FASTA\n",
    "fasta_file = \"20_seq_GH95.fasta\"\n",
    "SeqIO.write(seq_records_GH95, fasta_file, \"fasta\")"
   ]
  }
 ],
 "metadata": {
  "kernelspec": {
   "display_name": "Python 3",
   "language": "python",
   "name": "python3"
  },
  "language_info": {
   "codemirror_mode": {
    "name": "ipython",
    "version": 3
   },
   "file_extension": ".py",
   "mimetype": "text/x-python",
   "name": "python",
   "nbconvert_exporter": "python",
   "pygments_lexer": "ipython3",
   "version": "3.12.6"
  }
 },
 "nbformat": 4,
 "nbformat_minor": 4
}
